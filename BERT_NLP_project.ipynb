{
  "nbformat": 4,
  "nbformat_minor": 0,
  "metadata": {
    "accelerator": "GPU",
    "colab": {
      "name": "BERT_NLP_project.ipynb",
      "provenance": [],
      "collapsed_sections": [],
      "toc_visible": true
    },
    "kernelspec": {
      "display_name": "Python 3",
      "name": "python3"
    },
    "language_info": {
      "name": "python"
    },
    "widgets": {
      "application/vnd.jupyter.widget-state+json": {
        "6bdd07e7c75f4e22b12a6f4a570b2473": {
          "model_module": "@jupyter-widgets/controls",
          "model_name": "HBoxModel",
          "state": {
            "_view_name": "HBoxView",
            "_dom_classes": [],
            "_model_name": "HBoxModel",
            "_view_module": "@jupyter-widgets/controls",
            "_model_module_version": "1.5.0",
            "_view_count": null,
            "_view_module_version": "1.5.0",
            "box_style": "",
            "layout": "IPY_MODEL_febf9dba8807407cab40565b811aa3d4",
            "_model_module": "@jupyter-widgets/controls",
            "children": [
              "IPY_MODEL_a1b25ec3315846049b67daf35cf65b82",
              "IPY_MODEL_46d9adb360004e9c92f3aff180561d0a"
            ]
          }
        },
        "febf9dba8807407cab40565b811aa3d4": {
          "model_module": "@jupyter-widgets/base",
          "model_name": "LayoutModel",
          "state": {
            "_view_name": "LayoutView",
            "grid_template_rows": null,
            "right": null,
            "justify_content": null,
            "_view_module": "@jupyter-widgets/base",
            "overflow": null,
            "_model_module_version": "1.2.0",
            "_view_count": null,
            "flex_flow": null,
            "width": null,
            "min_width": null,
            "border": null,
            "align_items": null,
            "bottom": null,
            "_model_module": "@jupyter-widgets/base",
            "top": null,
            "grid_column": null,
            "overflow_y": null,
            "overflow_x": null,
            "grid_auto_flow": null,
            "grid_area": null,
            "grid_template_columns": null,
            "flex": null,
            "_model_name": "LayoutModel",
            "justify_items": null,
            "grid_row": null,
            "max_height": null,
            "align_content": null,
            "visibility": null,
            "align_self": null,
            "height": null,
            "min_height": null,
            "padding": null,
            "grid_auto_rows": null,
            "grid_gap": null,
            "max_width": null,
            "order": null,
            "_view_module_version": "1.2.0",
            "grid_template_areas": null,
            "object_position": null,
            "object_fit": null,
            "grid_auto_columns": null,
            "margin": null,
            "display": null,
            "left": null
          }
        },
        "a1b25ec3315846049b67daf35cf65b82": {
          "model_module": "@jupyter-widgets/controls",
          "model_name": "FloatProgressModel",
          "state": {
            "_view_name": "ProgressView",
            "style": "IPY_MODEL_c45d02d23da441bd842c6d24f051bc65",
            "_dom_classes": [],
            "description": "Downloading: 100%",
            "_model_name": "FloatProgressModel",
            "bar_style": "success",
            "max": 231508,
            "_view_module": "@jupyter-widgets/controls",
            "_model_module_version": "1.5.0",
            "value": 231508,
            "_view_count": null,
            "_view_module_version": "1.5.0",
            "orientation": "horizontal",
            "min": 0,
            "description_tooltip": null,
            "_model_module": "@jupyter-widgets/controls",
            "layout": "IPY_MODEL_aa8445fc7f114102a56f90dbb6d99664"
          }
        },
        "46d9adb360004e9c92f3aff180561d0a": {
          "model_module": "@jupyter-widgets/controls",
          "model_name": "HTMLModel",
          "state": {
            "_view_name": "HTMLView",
            "style": "IPY_MODEL_520c4d20d6a240f5a1fcc5586e9f8ae4",
            "_dom_classes": [],
            "description": "",
            "_model_name": "HTMLModel",
            "placeholder": "​",
            "_view_module": "@jupyter-widgets/controls",
            "_model_module_version": "1.5.0",
            "value": " 232k/232k [00:05&lt;00:00, 43.8kB/s]",
            "_view_count": null,
            "_view_module_version": "1.5.0",
            "description_tooltip": null,
            "_model_module": "@jupyter-widgets/controls",
            "layout": "IPY_MODEL_bcb7ee2f8e0a4bcea26a6fb9aa4d314a"
          }
        },
        "c45d02d23da441bd842c6d24f051bc65": {
          "model_module": "@jupyter-widgets/controls",
          "model_name": "ProgressStyleModel",
          "state": {
            "_view_name": "StyleView",
            "_model_name": "ProgressStyleModel",
            "description_width": "initial",
            "_view_module": "@jupyter-widgets/base",
            "_model_module_version": "1.5.0",
            "_view_count": null,
            "_view_module_version": "1.2.0",
            "bar_color": null,
            "_model_module": "@jupyter-widgets/controls"
          }
        },
        "aa8445fc7f114102a56f90dbb6d99664": {
          "model_module": "@jupyter-widgets/base",
          "model_name": "LayoutModel",
          "state": {
            "_view_name": "LayoutView",
            "grid_template_rows": null,
            "right": null,
            "justify_content": null,
            "_view_module": "@jupyter-widgets/base",
            "overflow": null,
            "_model_module_version": "1.2.0",
            "_view_count": null,
            "flex_flow": null,
            "width": null,
            "min_width": null,
            "border": null,
            "align_items": null,
            "bottom": null,
            "_model_module": "@jupyter-widgets/base",
            "top": null,
            "grid_column": null,
            "overflow_y": null,
            "overflow_x": null,
            "grid_auto_flow": null,
            "grid_area": null,
            "grid_template_columns": null,
            "flex": null,
            "_model_name": "LayoutModel",
            "justify_items": null,
            "grid_row": null,
            "max_height": null,
            "align_content": null,
            "visibility": null,
            "align_self": null,
            "height": null,
            "min_height": null,
            "padding": null,
            "grid_auto_rows": null,
            "grid_gap": null,
            "max_width": null,
            "order": null,
            "_view_module_version": "1.2.0",
            "grid_template_areas": null,
            "object_position": null,
            "object_fit": null,
            "grid_auto_columns": null,
            "margin": null,
            "display": null,
            "left": null
          }
        },
        "520c4d20d6a240f5a1fcc5586e9f8ae4": {
          "model_module": "@jupyter-widgets/controls",
          "model_name": "DescriptionStyleModel",
          "state": {
            "_view_name": "StyleView",
            "_model_name": "DescriptionStyleModel",
            "description_width": "",
            "_view_module": "@jupyter-widgets/base",
            "_model_module_version": "1.5.0",
            "_view_count": null,
            "_view_module_version": "1.2.0",
            "_model_module": "@jupyter-widgets/controls"
          }
        },
        "bcb7ee2f8e0a4bcea26a6fb9aa4d314a": {
          "model_module": "@jupyter-widgets/base",
          "model_name": "LayoutModel",
          "state": {
            "_view_name": "LayoutView",
            "grid_template_rows": null,
            "right": null,
            "justify_content": null,
            "_view_module": "@jupyter-widgets/base",
            "overflow": null,
            "_model_module_version": "1.2.0",
            "_view_count": null,
            "flex_flow": null,
            "width": null,
            "min_width": null,
            "border": null,
            "align_items": null,
            "bottom": null,
            "_model_module": "@jupyter-widgets/base",
            "top": null,
            "grid_column": null,
            "overflow_y": null,
            "overflow_x": null,
            "grid_auto_flow": null,
            "grid_area": null,
            "grid_template_columns": null,
            "flex": null,
            "_model_name": "LayoutModel",
            "justify_items": null,
            "grid_row": null,
            "max_height": null,
            "align_content": null,
            "visibility": null,
            "align_self": null,
            "height": null,
            "min_height": null,
            "padding": null,
            "grid_auto_rows": null,
            "grid_gap": null,
            "max_width": null,
            "order": null,
            "_view_module_version": "1.2.0",
            "grid_template_areas": null,
            "object_position": null,
            "object_fit": null,
            "grid_auto_columns": null,
            "margin": null,
            "display": null,
            "left": null
          }
        },
        "3a323b6b7cee47e79e8ad349a6f7b7c4": {
          "model_module": "@jupyter-widgets/controls",
          "model_name": "HBoxModel",
          "state": {
            "_view_name": "HBoxView",
            "_dom_classes": [],
            "_model_name": "HBoxModel",
            "_view_module": "@jupyter-widgets/controls",
            "_model_module_version": "1.5.0",
            "_view_count": null,
            "_view_module_version": "1.5.0",
            "box_style": "",
            "layout": "IPY_MODEL_f0a6724d53cd43e0a61973a065814890",
            "_model_module": "@jupyter-widgets/controls",
            "children": [
              "IPY_MODEL_776ca3895a2147d0a3f1b2c5cb08b416",
              "IPY_MODEL_be0cd228cfab4ee7867285796e26c177"
            ]
          }
        },
        "f0a6724d53cd43e0a61973a065814890": {
          "model_module": "@jupyter-widgets/base",
          "model_name": "LayoutModel",
          "state": {
            "_view_name": "LayoutView",
            "grid_template_rows": null,
            "right": null,
            "justify_content": null,
            "_view_module": "@jupyter-widgets/base",
            "overflow": null,
            "_model_module_version": "1.2.0",
            "_view_count": null,
            "flex_flow": null,
            "width": null,
            "min_width": null,
            "border": null,
            "align_items": null,
            "bottom": null,
            "_model_module": "@jupyter-widgets/base",
            "top": null,
            "grid_column": null,
            "overflow_y": null,
            "overflow_x": null,
            "grid_auto_flow": null,
            "grid_area": null,
            "grid_template_columns": null,
            "flex": null,
            "_model_name": "LayoutModel",
            "justify_items": null,
            "grid_row": null,
            "max_height": null,
            "align_content": null,
            "visibility": null,
            "align_self": null,
            "height": null,
            "min_height": null,
            "padding": null,
            "grid_auto_rows": null,
            "grid_gap": null,
            "max_width": null,
            "order": null,
            "_view_module_version": "1.2.0",
            "grid_template_areas": null,
            "object_position": null,
            "object_fit": null,
            "grid_auto_columns": null,
            "margin": null,
            "display": null,
            "left": null
          }
        },
        "776ca3895a2147d0a3f1b2c5cb08b416": {
          "model_module": "@jupyter-widgets/controls",
          "model_name": "FloatProgressModel",
          "state": {
            "_view_name": "ProgressView",
            "style": "IPY_MODEL_8152b850889145eb9701428595357ddc",
            "_dom_classes": [],
            "description": "Downloading: 100%",
            "_model_name": "FloatProgressModel",
            "bar_style": "success",
            "max": 28,
            "_view_module": "@jupyter-widgets/controls",
            "_model_module_version": "1.5.0",
            "value": 28,
            "_view_count": null,
            "_view_module_version": "1.5.0",
            "orientation": "horizontal",
            "min": 0,
            "description_tooltip": null,
            "_model_module": "@jupyter-widgets/controls",
            "layout": "IPY_MODEL_884f8b10547d487d9920f2607d0ef9e9"
          }
        },
        "be0cd228cfab4ee7867285796e26c177": {
          "model_module": "@jupyter-widgets/controls",
          "model_name": "HTMLModel",
          "state": {
            "_view_name": "HTMLView",
            "style": "IPY_MODEL_676368f6097946a096d786d64a9d393b",
            "_dom_classes": [],
            "description": "",
            "_model_name": "HTMLModel",
            "placeholder": "​",
            "_view_module": "@jupyter-widgets/controls",
            "_model_module_version": "1.5.0",
            "value": " 28.0/28.0 [00:01&lt;00:00, 15.0B/s]",
            "_view_count": null,
            "_view_module_version": "1.5.0",
            "description_tooltip": null,
            "_model_module": "@jupyter-widgets/controls",
            "layout": "IPY_MODEL_167bfc5737754e138d50815fca9019ec"
          }
        },
        "8152b850889145eb9701428595357ddc": {
          "model_module": "@jupyter-widgets/controls",
          "model_name": "ProgressStyleModel",
          "state": {
            "_view_name": "StyleView",
            "_model_name": "ProgressStyleModel",
            "description_width": "initial",
            "_view_module": "@jupyter-widgets/base",
            "_model_module_version": "1.5.0",
            "_view_count": null,
            "_view_module_version": "1.2.0",
            "bar_color": null,
            "_model_module": "@jupyter-widgets/controls"
          }
        },
        "884f8b10547d487d9920f2607d0ef9e9": {
          "model_module": "@jupyter-widgets/base",
          "model_name": "LayoutModel",
          "state": {
            "_view_name": "LayoutView",
            "grid_template_rows": null,
            "right": null,
            "justify_content": null,
            "_view_module": "@jupyter-widgets/base",
            "overflow": null,
            "_model_module_version": "1.2.0",
            "_view_count": null,
            "flex_flow": null,
            "width": null,
            "min_width": null,
            "border": null,
            "align_items": null,
            "bottom": null,
            "_model_module": "@jupyter-widgets/base",
            "top": null,
            "grid_column": null,
            "overflow_y": null,
            "overflow_x": null,
            "grid_auto_flow": null,
            "grid_area": null,
            "grid_template_columns": null,
            "flex": null,
            "_model_name": "LayoutModel",
            "justify_items": null,
            "grid_row": null,
            "max_height": null,
            "align_content": null,
            "visibility": null,
            "align_self": null,
            "height": null,
            "min_height": null,
            "padding": null,
            "grid_auto_rows": null,
            "grid_gap": null,
            "max_width": null,
            "order": null,
            "_view_module_version": "1.2.0",
            "grid_template_areas": null,
            "object_position": null,
            "object_fit": null,
            "grid_auto_columns": null,
            "margin": null,
            "display": null,
            "left": null
          }
        },
        "676368f6097946a096d786d64a9d393b": {
          "model_module": "@jupyter-widgets/controls",
          "model_name": "DescriptionStyleModel",
          "state": {
            "_view_name": "StyleView",
            "_model_name": "DescriptionStyleModel",
            "description_width": "",
            "_view_module": "@jupyter-widgets/base",
            "_model_module_version": "1.5.0",
            "_view_count": null,
            "_view_module_version": "1.2.0",
            "_model_module": "@jupyter-widgets/controls"
          }
        },
        "167bfc5737754e138d50815fca9019ec": {
          "model_module": "@jupyter-widgets/base",
          "model_name": "LayoutModel",
          "state": {
            "_view_name": "LayoutView",
            "grid_template_rows": null,
            "right": null,
            "justify_content": null,
            "_view_module": "@jupyter-widgets/base",
            "overflow": null,
            "_model_module_version": "1.2.0",
            "_view_count": null,
            "flex_flow": null,
            "width": null,
            "min_width": null,
            "border": null,
            "align_items": null,
            "bottom": null,
            "_model_module": "@jupyter-widgets/base",
            "top": null,
            "grid_column": null,
            "overflow_y": null,
            "overflow_x": null,
            "grid_auto_flow": null,
            "grid_area": null,
            "grid_template_columns": null,
            "flex": null,
            "_model_name": "LayoutModel",
            "justify_items": null,
            "grid_row": null,
            "max_height": null,
            "align_content": null,
            "visibility": null,
            "align_self": null,
            "height": null,
            "min_height": null,
            "padding": null,
            "grid_auto_rows": null,
            "grid_gap": null,
            "max_width": null,
            "order": null,
            "_view_module_version": "1.2.0",
            "grid_template_areas": null,
            "object_position": null,
            "object_fit": null,
            "grid_auto_columns": null,
            "margin": null,
            "display": null,
            "left": null
          }
        },
        "2af9298c4411446692f240a4474ea86e": {
          "model_module": "@jupyter-widgets/controls",
          "model_name": "HBoxModel",
          "state": {
            "_view_name": "HBoxView",
            "_dom_classes": [],
            "_model_name": "HBoxModel",
            "_view_module": "@jupyter-widgets/controls",
            "_model_module_version": "1.5.0",
            "_view_count": null,
            "_view_module_version": "1.5.0",
            "box_style": "",
            "layout": "IPY_MODEL_6b5c2cc82642492ba2c88c47a5f2b662",
            "_model_module": "@jupyter-widgets/controls",
            "children": [
              "IPY_MODEL_1440f487870a4a7aa95499d00fb22680",
              "IPY_MODEL_82512d2d774c431bacc5e6a3a543da7e"
            ]
          }
        },
        "6b5c2cc82642492ba2c88c47a5f2b662": {
          "model_module": "@jupyter-widgets/base",
          "model_name": "LayoutModel",
          "state": {
            "_view_name": "LayoutView",
            "grid_template_rows": null,
            "right": null,
            "justify_content": null,
            "_view_module": "@jupyter-widgets/base",
            "overflow": null,
            "_model_module_version": "1.2.0",
            "_view_count": null,
            "flex_flow": null,
            "width": null,
            "min_width": null,
            "border": null,
            "align_items": null,
            "bottom": null,
            "_model_module": "@jupyter-widgets/base",
            "top": null,
            "grid_column": null,
            "overflow_y": null,
            "overflow_x": null,
            "grid_auto_flow": null,
            "grid_area": null,
            "grid_template_columns": null,
            "flex": null,
            "_model_name": "LayoutModel",
            "justify_items": null,
            "grid_row": null,
            "max_height": null,
            "align_content": null,
            "visibility": null,
            "align_self": null,
            "height": null,
            "min_height": null,
            "padding": null,
            "grid_auto_rows": null,
            "grid_gap": null,
            "max_width": null,
            "order": null,
            "_view_module_version": "1.2.0",
            "grid_template_areas": null,
            "object_position": null,
            "object_fit": null,
            "grid_auto_columns": null,
            "margin": null,
            "display": null,
            "left": null
          }
        },
        "1440f487870a4a7aa95499d00fb22680": {
          "model_module": "@jupyter-widgets/controls",
          "model_name": "FloatProgressModel",
          "state": {
            "_view_name": "ProgressView",
            "style": "IPY_MODEL_94417f87aec14b9b8d6810ada55c894c",
            "_dom_classes": [],
            "description": "Downloading: 100%",
            "_model_name": "FloatProgressModel",
            "bar_style": "success",
            "max": 466062,
            "_view_module": "@jupyter-widgets/controls",
            "_model_module_version": "1.5.0",
            "value": 466062,
            "_view_count": null,
            "_view_module_version": "1.5.0",
            "orientation": "horizontal",
            "min": 0,
            "description_tooltip": null,
            "_model_module": "@jupyter-widgets/controls",
            "layout": "IPY_MODEL_1c9fbb75b58b4f5190098ceb84f7a9e1"
          }
        },
        "82512d2d774c431bacc5e6a3a543da7e": {
          "model_module": "@jupyter-widgets/controls",
          "model_name": "HTMLModel",
          "state": {
            "_view_name": "HTMLView",
            "style": "IPY_MODEL_a685079213f94cb4a1bb05b0f0514d9d",
            "_dom_classes": [],
            "description": "",
            "_model_name": "HTMLModel",
            "placeholder": "​",
            "_view_module": "@jupyter-widgets/controls",
            "_model_module_version": "1.5.0",
            "value": " 466k/466k [00:00&lt;00:00, 497kB/s]",
            "_view_count": null,
            "_view_module_version": "1.5.0",
            "description_tooltip": null,
            "_model_module": "@jupyter-widgets/controls",
            "layout": "IPY_MODEL_df918c343ba44e499f15478c19f4d369"
          }
        },
        "94417f87aec14b9b8d6810ada55c894c": {
          "model_module": "@jupyter-widgets/controls",
          "model_name": "ProgressStyleModel",
          "state": {
            "_view_name": "StyleView",
            "_model_name": "ProgressStyleModel",
            "description_width": "initial",
            "_view_module": "@jupyter-widgets/base",
            "_model_module_version": "1.5.0",
            "_view_count": null,
            "_view_module_version": "1.2.0",
            "bar_color": null,
            "_model_module": "@jupyter-widgets/controls"
          }
        },
        "1c9fbb75b58b4f5190098ceb84f7a9e1": {
          "model_module": "@jupyter-widgets/base",
          "model_name": "LayoutModel",
          "state": {
            "_view_name": "LayoutView",
            "grid_template_rows": null,
            "right": null,
            "justify_content": null,
            "_view_module": "@jupyter-widgets/base",
            "overflow": null,
            "_model_module_version": "1.2.0",
            "_view_count": null,
            "flex_flow": null,
            "width": null,
            "min_width": null,
            "border": null,
            "align_items": null,
            "bottom": null,
            "_model_module": "@jupyter-widgets/base",
            "top": null,
            "grid_column": null,
            "overflow_y": null,
            "overflow_x": null,
            "grid_auto_flow": null,
            "grid_area": null,
            "grid_template_columns": null,
            "flex": null,
            "_model_name": "LayoutModel",
            "justify_items": null,
            "grid_row": null,
            "max_height": null,
            "align_content": null,
            "visibility": null,
            "align_self": null,
            "height": null,
            "min_height": null,
            "padding": null,
            "grid_auto_rows": null,
            "grid_gap": null,
            "max_width": null,
            "order": null,
            "_view_module_version": "1.2.0",
            "grid_template_areas": null,
            "object_position": null,
            "object_fit": null,
            "grid_auto_columns": null,
            "margin": null,
            "display": null,
            "left": null
          }
        },
        "a685079213f94cb4a1bb05b0f0514d9d": {
          "model_module": "@jupyter-widgets/controls",
          "model_name": "DescriptionStyleModel",
          "state": {
            "_view_name": "StyleView",
            "_model_name": "DescriptionStyleModel",
            "description_width": "",
            "_view_module": "@jupyter-widgets/base",
            "_model_module_version": "1.5.0",
            "_view_count": null,
            "_view_module_version": "1.2.0",
            "_model_module": "@jupyter-widgets/controls"
          }
        },
        "df918c343ba44e499f15478c19f4d369": {
          "model_module": "@jupyter-widgets/base",
          "model_name": "LayoutModel",
          "state": {
            "_view_name": "LayoutView",
            "grid_template_rows": null,
            "right": null,
            "justify_content": null,
            "_view_module": "@jupyter-widgets/base",
            "overflow": null,
            "_model_module_version": "1.2.0",
            "_view_count": null,
            "flex_flow": null,
            "width": null,
            "min_width": null,
            "border": null,
            "align_items": null,
            "bottom": null,
            "_model_module": "@jupyter-widgets/base",
            "top": null,
            "grid_column": null,
            "overflow_y": null,
            "overflow_x": null,
            "grid_auto_flow": null,
            "grid_area": null,
            "grid_template_columns": null,
            "flex": null,
            "_model_name": "LayoutModel",
            "justify_items": null,
            "grid_row": null,
            "max_height": null,
            "align_content": null,
            "visibility": null,
            "align_self": null,
            "height": null,
            "min_height": null,
            "padding": null,
            "grid_auto_rows": null,
            "grid_gap": null,
            "max_width": null,
            "order": null,
            "_view_module_version": "1.2.0",
            "grid_template_areas": null,
            "object_position": null,
            "object_fit": null,
            "grid_auto_columns": null,
            "margin": null,
            "display": null,
            "left": null
          }
        }
      }
    }
  },
  "cells": [
    {
      "cell_type": "markdown",
      "metadata": {
        "id": "lx3kNA5QObSX"
      },
      "source": [
        "# Predicting product rating based on review text \n",
        "\n",
        "## Project in LTAT.01.001 Natural language processing\n",
        "\n",
        "#### Team members: Karl Jaagup Kask, Ludvig Leis, Richard Nõmm"
      ]
    },
    {
      "cell_type": "code",
      "metadata": {
        "colab": {
          "base_uri": "https://localhost:8080/"
        },
        "id": "OR2En_bNOKIh",
        "outputId": "1a1e1a1b-7929-4932-a50d-c7f81e1f47c0"
      },
      "source": [
        "import pandas as pd\n",
        "import numpy as np\n",
        "import matplotlib.pyplot as plt\n",
        "import seaborn as sns\n",
        "import re \n",
        "import nltk\n",
        "from nltk.corpus import stopwords\n",
        "from nltk.stem import WordNetLemmatizer\n",
        "from nltk.tokenize import word_tokenize\n",
        "\n",
        "\n",
        "!python3 -m nltk.downloader stopwords\n",
        "!python3 -m nltk.downloader punkt"
      ],
      "execution_count": null,
      "outputs": [
        {
          "output_type": "stream",
          "text": [
            "/usr/lib/python3.7/runpy.py:125: RuntimeWarning: 'nltk.downloader' found in sys.modules after import of package 'nltk', but prior to execution of 'nltk.downloader'; this may result in unpredictable behaviour\n",
            "  warn(RuntimeWarning(msg))\n",
            "[nltk_data] Downloading package stopwords to /root/nltk_data...\n",
            "[nltk_data]   Package stopwords is already up-to-date!\n",
            "/usr/lib/python3.7/runpy.py:125: RuntimeWarning: 'nltk.downloader' found in sys.modules after import of package 'nltk', but prior to execution of 'nltk.downloader'; this may result in unpredictable behaviour\n",
            "  warn(RuntimeWarning(msg))\n",
            "[nltk_data] Downloading package punkt to /root/nltk_data...\n",
            "[nltk_data]   Package punkt is already up-to-date!\n"
          ],
          "name": "stdout"
        }
      ]
    },
    {
      "cell_type": "code",
      "metadata": {
        "id": "hjSLi-TpZcXb"
      },
      "source": [
        "RANDOM_SEED = 100"
      ],
      "execution_count": null,
      "outputs": []
    },
    {
      "cell_type": "markdown",
      "metadata": {
        "id": "7z9_NwhNOpLR"
      },
      "source": [
        "The data we are using: https://www.kaggle.com/datafiniti/consumer-reviews-of-amazon-products"
      ]
    },
    {
      "cell_type": "markdown",
      "metadata": {
        "id": "jwCm46NbOTIg"
      },
      "source": [
        "## Data preprocessing (data file needs to be imported)"
      ]
    },
    {
      "cell_type": "code",
      "metadata": {
        "colab": {
          "base_uri": "https://localhost:8080/"
        },
        "id": "cdUOTKUiOOKR",
        "outputId": "3f5b5831-641f-4fda-a38f-84f563e00784"
      },
      "source": [
        "df = pd.read_csv('amazon_review_dataset.csv') #renamed"
      ],
      "execution_count": null,
      "outputs": [
        {
          "output_type": "stream",
          "text": [
            "/usr/local/lib/python3.7/dist-packages/IPython/core/interactiveshell.py:2718: DtypeWarning: Columns (1,10) have mixed types.Specify dtype option on import or set low_memory=False.\n",
            "  interactivity=interactivity, compiler=compiler, result=result)\n"
          ],
          "name": "stderr"
        }
      ]
    },
    {
      "cell_type": "code",
      "metadata": {
        "colab": {
          "base_uri": "https://localhost:8080/",
          "height": 53
        },
        "id": "bHrZGSNuOPpA",
        "outputId": "ff97bf65-d9a3-4c00-8f57-a536cf9af89f"
      },
      "source": [
        "df = df[df['reviews.rating'].notnull() & df['reviews.text'].notnull()]\n",
        "df= df[['reviews.rating','reviews.text']]\n",
        "\n",
        "df.rename(columns = {'reviews.rating':'rating', 'reviews.text':'text'}, inplace = True)\n",
        "df['text'][0]"
      ],
      "execution_count": null,
      "outputs": [
        {
          "output_type": "execute_result",
          "data": {
            "application/vnd.google.colaboratory.intrinsic+json": {
              "type": "string"
            },
            "text/plain": [
              "'This product so far has not disappointed. My children love to use it and I like the ability to monitor control what content they see with ease.'"
            ]
          },
          "metadata": {
            "tags": []
          },
          "execution_count": 6
        }
      ]
    },
    {
      "cell_type": "code",
      "metadata": {
        "colab": {
          "base_uri": "https://localhost:8080/",
          "height": 53
        },
        "id": "RYhoqoOZOSWw",
        "outputId": "1242d8fa-7949-47d9-b671-47877a09bbf0"
      },
      "source": [
        "#stops = stopwords.words('english')\n",
        "\n",
        "remove_punc = re.compile('[^a-z]+')\n",
        "def clean_text(sent):\n",
        "    sent = str(sent).lower()\n",
        "    sent = remove_punc.sub(' ', sent).strip()\n",
        "    #filtered = [word for word in sent.split() if word not in stops]\n",
        "    #sentence = \" \".join(filtered) #just joined -> laused\n",
        "    #sentence = nltk.word_tokenize(sentence) #tokenized -> listid\n",
        "    return sent\n",
        "\n",
        "clean_text(df['text'][0])\n"
      ],
      "execution_count": null,
      "outputs": [
        {
          "output_type": "execute_result",
          "data": {
            "application/vnd.google.colaboratory.intrinsic+json": {
              "type": "string"
            },
            "text/plain": [
              "'this product so far has not disappointed my children love to use it and i like the ability to monitor control what content they see with ease'"
            ]
          },
          "metadata": {
            "tags": []
          },
          "execution_count": 8
        }
      ]
    },
    {
      "cell_type": "code",
      "metadata": {
        "id": "UPb6ydqJQAQR"
      },
      "source": [
        "reviews = [clean_text(sent) for sent in df['text']]"
      ],
      "execution_count": null,
      "outputs": []
    },
    {
      "cell_type": "code",
      "metadata": {
        "id": "Abbgg-fwS-oK",
        "colab": {
          "base_uri": "https://localhost:8080/",
          "height": 405
        },
        "outputId": "44739cc0-4d18-43a8-f00b-c2e815d523ac"
      },
      "source": [
        "plt.figure(figsize=(10,5))\n",
        "sns.countplot(df['rating'], color= \"blue\")\n",
        "plt.title('Ratings distribution')\n",
        "plt.show()"
      ],
      "execution_count": null,
      "outputs": [
        {
          "output_type": "stream",
          "text": [
            "/usr/local/lib/python3.7/dist-packages/seaborn/_decorators.py:43: FutureWarning: Pass the following variable as a keyword arg: x. From version 0.12, the only valid positional argument will be `data`, and passing other arguments without an explicit keyword will result in an error or misinterpretation.\n",
            "  FutureWarning\n"
          ],
          "name": "stderr"
        },
        {
          "output_type": "display_data",
          "data": {
            "image/png": "[encoded data removed]",
            "text/plain": [
              "<Figure size 720x360 with 1 Axes>"
            ]
          },
          "metadata": {
            "tags": [],
            "needs_background": "light"
          }
        }
      ]
    },
    {
      "cell_type": "markdown",
      "metadata": {
        "id": "1fjUp1VmWF5b"
      },
      "source": [
        "## BERT approach"
      ]
    },
    {
      "cell_type": "markdown",
      "metadata": {
        "id": "1SSN7DuQtHU1"
      },
      "source": [
        "The following code is based on this notebook: https://colab.research.google.com/drive/1f32gj5IYIyFipoINiC8P3DvKat-WWLUK \n",
        "\n"
      ]
    },
    {
      "cell_type": "code",
      "metadata": {
        "colab": {
          "base_uri": "https://localhost:8080/",
          "height": 792,
          "referenced_widgets": [
            "6bdd07e7c75f4e22b12a6f4a570b2473",
            "febf9dba8807407cab40565b811aa3d4",
            "a1b25ec3315846049b67daf35cf65b82",
            "46d9adb360004e9c92f3aff180561d0a",
            "c45d02d23da441bd842c6d24f051bc65",
            "aa8445fc7f114102a56f90dbb6d99664",
            "520c4d20d6a240f5a1fcc5586e9f8ae4",
            "bcb7ee2f8e0a4bcea26a6fb9aa4d314a",
            "3a323b6b7cee47e79e8ad349a6f7b7c4",
            "f0a6724d53cd43e0a61973a065814890",
            "776ca3895a2147d0a3f1b2c5cb08b416",
            "be0cd228cfab4ee7867285796e26c177",
            "8152b850889145eb9701428595357ddc",
            "884f8b10547d487d9920f2607d0ef9e9",
            "676368f6097946a096d786d64a9d393b",
            "167bfc5737754e138d50815fca9019ec",
            "2af9298c4411446692f240a4474ea86e",
            "6b5c2cc82642492ba2c88c47a5f2b662",
            "1440f487870a4a7aa95499d00fb22680",
            "82512d2d774c431bacc5e6a3a543da7e",
            "94417f87aec14b9b8d6810ada55c894c",
            "1c9fbb75b58b4f5190098ceb84f7a9e1",
            "a685079213f94cb4a1bb05b0f0514d9d",
            "df918c343ba44e499f15478c19f4d369"
          ]
        },
        "id": "EgLPKFg1ko0S",
        "outputId": "95465e82-5b26-47b8-fb18-f843cf9bd7e0"
      },
      "source": [
        "!pip install transformers\n",
        "!pip install conllu\n",
        "\n",
        "import torch\n",
        "from torch.utils.data import Dataset, DataLoader\n",
        "from torch.utils.data.sampler import SubsetRandomSampler\n",
        "import torch.nn as nn\n",
        "import torch.nn.functional as F\n",
        "import torch.optim as optim\n",
        "\n",
        "from pathlib import Path\n",
        "import time\n",
        "import random\n",
        "from collections import Counter\n",
        "from typing import List, Dict\n",
        "\n",
        "# Check if we are running on a CPU or GPU, should be GPU\n",
        "device = torch.device('cuda' if torch.cuda.is_available() else 'cpu')\n",
        "\n",
        "from transformers import AutoModelForTokenClassification, AdamW, AutoConfig\n",
        "from transformers import AutoTokenizer, PreTrainedTokenizer\n",
        "from transformers import get_linear_schedule_with_warmup\n",
        "from transformers import BertModel, BertTokenizer, AdamW, get_linear_schedule_with_warmup\n",
        "from conllu import parse\n",
        "\n",
        "# Load the BERT tokenizer\n",
        "tokenizer = BertTokenizer.from_pretrained('bert-base-uncased', do_lower_case=True)\n",
        "print(device)"
      ],
      "execution_count": null,
      "outputs": [
        {
          "output_type": "stream",
          "text": [
            "Collecting transformers\n",
            "\u001b[?25l  Downloading https://files.pythonhosted.org/packages/b0/9e/5b80becd952d5f7250eaf8fc64b957077b12ccfe73e9c03d37146ab29712/transformers-4.6.0-py3-none-any.whl (2.3MB)\n",
            "\u001b[K     |████████████████████████████████| 2.3MB 4.2MB/s \n",
            "\u001b[?25hRequirement already satisfied: packaging in /usr/local/lib/python3.7/dist-packages (from transformers) (20.9)\n",
            "Collecting tokenizers<0.11,>=0.10.1\n",
            "\u001b[?25l  Downloading https://files.pythonhosted.org/packages/ae/04/5b870f26a858552025a62f1649c20d29d2672c02ff3c3fb4c688ca46467a/tokenizers-0.10.2-cp37-cp37m-manylinux2010_x86_64.whl (3.3MB)\n",
            "\u001b[K     |████████████████████████████████| 3.3MB 24.5MB/s \n",
            "\u001b[?25hRequirement already satisfied: requests in /usr/local/lib/python3.7/dist-packages (from transformers) (2.23.0)\n",
            "Requirement already satisfied: tqdm>=4.27 in /usr/local/lib/python3.7/dist-packages (from transformers) (4.41.1)\n",
            "Collecting huggingface-hub==0.0.8\n",
            "  Downloading https://files.pythonhosted.org/packages/a1/88/7b1e45720ecf59c6c6737ff332f41c955963090a18e72acbcbeac6b25e86/huggingface_hub-0.0.8-py3-none-any.whl\n",
            "Requirement already satisfied: regex!=2019.12.17 in /usr/local/lib/python3.7/dist-packages (from transformers) (2019.12.20)\n",
            "Collecting sacremoses\n",
            "\u001b[?25l  Downloading https://files.pythonhosted.org/packages/75/ee/67241dc87f266093c533a2d4d3d69438e57d7a90abb216fa076e7d475d4a/sacremoses-0.0.45-py3-none-any.whl (895kB)\n",
            "\u001b[K     |████████████████████████████████| 901kB 38.0MB/s \n",
            "\u001b[?25hRequirement already satisfied: numpy>=1.17 in /usr/local/lib/python3.7/dist-packages (from transformers) (1.19.5)\n",
            "Requirement already satisfied: filelock in /usr/local/lib/python3.7/dist-packages (from transformers) (3.0.12)\n",
            "Requirement already satisfied: importlib-metadata; python_version < \"3.8\" in /usr/local/lib/python3.7/dist-packages (from transformers) (4.0.1)\n",
            "Requirement already satisfied: pyparsing>=2.0.2 in /usr/local/lib/python3.7/dist-packages (from packaging->transformers) (2.4.7)\n",
            "Requirement already satisfied: chardet<4,>=3.0.2 in /usr/local/lib/python3.7/dist-packages (from requests->transformers) (3.0.4)\n",
            "Requirement already satisfied: certifi>=2017.4.17 in /usr/local/lib/python3.7/dist-packages (from requests->transformers) (2020.12.5)\n",
            "Requirement already satisfied: urllib3!=1.25.0,!=1.25.1,<1.26,>=1.21.1 in /usr/local/lib/python3.7/dist-packages (from requests->transformers) (1.24.3)\n",
            "Requirement already satisfied: idna<3,>=2.5 in /usr/local/lib/python3.7/dist-packages (from requests->transformers) (2.10)\n",
            "Requirement already satisfied: joblib in /usr/local/lib/python3.7/dist-packages (from sacremoses->transformers) (1.0.1)\n",
            "Requirement already satisfied: click in /usr/local/lib/python3.7/dist-packages (from sacremoses->transformers) (8.0.0)\n",
            "Requirement already satisfied: six in /usr/local/lib/python3.7/dist-packages (from sacremoses->transformers) (1.15.0)\n",
            "Requirement already satisfied: typing-extensions>=3.6.4; python_version < \"3.8\" in /usr/local/lib/python3.7/dist-packages (from importlib-metadata; python_version < \"3.8\"->transformers) (3.7.4.3)\n",
            "Requirement already satisfied: zipp>=0.5 in /usr/local/lib/python3.7/dist-packages (from importlib-metadata; python_version < \"3.8\"->transformers) (3.4.1)\n",
            "Installing collected packages: tokenizers, huggingface-hub, sacremoses, transformers\n",
            "Successfully installed huggingface-hub-0.0.8 sacremoses-0.0.45 tokenizers-0.10.2 transformers-4.6.0\n",
            "Collecting conllu\n",
            "  Downloading https://files.pythonhosted.org/packages/ae/be/be6959c3ff2dbfdd87de4be0ccdff577835b5d08b1d25bf7fd4aaf0d7add/conllu-4.4-py2.py3-none-any.whl\n",
            "Installing collected packages: conllu\n",
            "Successfully installed conllu-4.4\n"
          ],
          "name": "stdout"
        },
        {
          "output_type": "display_data",
          "data": {
            "application/vnd.jupyter.widget-view+json": {
              "model_id": "6bdd07e7c75f4e22b12a6f4a570b2473",
              "version_minor": 0,
              "version_major": 2
            },
            "text/plain": [
              "HBox(children=(FloatProgress(value=0.0, description='Downloading', max=231508.0, style=ProgressStyle(descripti…"
            ]
          },
          "metadata": {
            "tags": []
          }
        },
        {
          "output_type": "stream",
          "text": [
            "\n"
          ],
          "name": "stdout"
        },
        {
          "output_type": "display_data",
          "data": {
            "application/vnd.jupyter.widget-view+json": {
              "model_id": "3a323b6b7cee47e79e8ad349a6f7b7c4",
              "version_minor": 0,
              "version_major": 2
            },
            "text/plain": [
              "HBox(children=(FloatProgress(value=0.0, description='Downloading', max=28.0, style=ProgressStyle(description_w…"
            ]
          },
          "metadata": {
            "tags": []
          }
        },
        {
          "output_type": "stream",
          "text": [
            "\n"
          ],
          "name": "stdout"
        },
        {
          "output_type": "display_data",
          "data": {
            "application/vnd.jupyter.widget-view+json": {
              "model_id": "2af9298c4411446692f240a4474ea86e",
              "version_minor": 0,
              "version_major": 2
            },
            "text/plain": [
              "HBox(children=(FloatProgress(value=0.0, description='Downloading', max=466062.0, style=ProgressStyle(descripti…"
            ]
          },
          "metadata": {
            "tags": []
          }
        },
        {
          "output_type": "stream",
          "text": [
            "\n",
            "cuda\n"
          ],
          "name": "stdout"
        }
      ]
    },
    {
      "cell_type": "code",
      "metadata": {
        "id": "5ql6PKR5UdUv"
      },
      "source": [
        "# Function for tokenizing texts\n",
        "def preprocessing_for_bert(data):\n",
        "    \"\"\"Perform required preprocessing steps for pretrained BERT.\n",
        "    @param    data (np.array): Array of texts to be processed.\n",
        "    @return   input_ids (torch.Tensor): Tensor of token ids to be fed to a model.\n",
        "    @return   attention_masks (torch.Tensor): Tensor of indices specifying which\n",
        "                  tokens should be attended to by the model.\n",
        "    \"\"\"\n",
        "    # Create empty lists to store outputs\n",
        "    input_ids = []\n",
        "    attention_masks = []\n",
        "\n",
        "    # For every sentence...\n",
        "    for sent in data:\n",
        "        # `encode_plus` will:\n",
        "        #    (1) Tokenize the sentence\n",
        "        #    (2) Add the `[CLS]` and `[SEP]` token to the start and end\n",
        "        #    (3) Truncate/Pad sentence to max length\n",
        "        #    (4) Map tokens to their IDs\n",
        "        #    (5) Create attention mask\n",
        "        #    (6) Return a dictionary of outputs\n",
        "        encoded_sent = tokenizer.encode_plus(\n",
        "            text=sent,  # Preprocess sentence\n",
        "            add_special_tokens=True,        # Add `[CLS]` and `[SEP]`\n",
        "            max_length=160,                  # Max length to truncate/pad\n",
        "            pad_to_max_length=True,         # Pad sentence to max length\n",
        "            return_attention_mask=True,      # Return attention mask\n",
        "            truncation=True\n",
        "            )\n",
        "  \n",
        "        # Add the outputs to the lists\n",
        "        input_ids.append(encoded_sent.get('input_ids'))\n",
        "        attention_masks.append(encoded_sent.get('attention_mask'))\n",
        "\n",
        "    # Convert lists to tensors\n",
        "    input_ids = torch.tensor(input_ids)\n",
        "    attention_masks = torch.tensor(attention_masks)\n",
        "\n",
        "    return input_ids, attention_masks"
      ],
      "execution_count": null,
      "outputs": []
    },
    {
      "cell_type": "code",
      "metadata": {
        "id": "SyOufxqRlCve"
      },
      "source": [
        "from sklearn.model_selection import train_test_split\n",
        "\n",
        "# Create train & val data (80%)\n",
        "X = df.text.values \n",
        "y = df.rating.values \n",
        "\n",
        "# Split train & val data\n",
        "X_train, X_val0, y_train, y_val0 =\\\n",
        "    train_test_split(X, y, test_size=0.2, random_state=100)\n",
        "\n",
        "X_val, X_test, y_val, y_test = train_test_split(X_val0, y_val0, test_size=0.5, random_state=100)"
      ],
      "execution_count": null,
      "outputs": []
    },
    {
      "cell_type": "code",
      "metadata": {
        "colab": {
          "base_uri": "https://localhost:8080/"
        },
        "id": "65dmX_oS1BkV",
        "outputId": "b240c20f-4363-4141-9cb8-81c03934f5b3"
      },
      "source": [
        "print(len(X_train))\n",
        "print(len(y_train))\n",
        "print(X_train)"
      ],
      "execution_count": null,
      "outputs": [
        {
          "output_type": "stream",
          "text": [
            "27700\n",
            "27700\n",
            "[\"I purchased this for a family member for Christmas. I've owned this tablet and it's great.\"\n",
            " 'What can I say my wife thought it was silly now when I come home from work almost every night she is listening to I hate country music.p.s. I love to control the lights with alexa.'\n",
            " \"The Amazon Echo is a really fun thing to play with. We always try to find new things to say to it which would make it say something funny. The Echo has been the most helpful in our home for creating shopping lists for everyone in the house with a phone. If any of us find ourselves at the store, we know what the others want. Shopping on Amazon is really easy and fun as well. There's a whole bunch of apps so it won't be hard for you to find what will make the Echo useful to you specifically. We love it. I couldn't recommend it more.\"\n",
            " ... 'Amazing tablet with fast processor. It looks great... got good deal'\n",
            " 'got this for my mom and she loves it good for games or reading on'\n",
            " 'Before you conclude it does not have enough, look at what it can do and read the specs.']\n"
          ],
          "name": "stdout"
        }
      ]
    },
    {
      "cell_type": "code",
      "metadata": {
        "colab": {
          "base_uri": "https://localhost:8080/"
        },
        "id": "OycaKJv5lPsX",
        "outputId": "404535dd-ce98-4477-fde4-c5380e27188b"
      },
      "source": [
        "# Tokenize data\n",
        "print('Tokenizing data...')\n",
        "train_inputs, train_masks = preprocessing_for_bert(X_train)\n",
        "val_inputs, val_masks = preprocessing_for_bert(X_val)\n",
        "test_inputs, test_masks = preprocessing_for_bert(X_test)"
      ],
      "execution_count": null,
      "outputs": [
        {
          "output_type": "stream",
          "text": [
            "Tokenizing data...\n"
          ],
          "name": "stdout"
        },
        {
          "output_type": "stream",
          "text": [
            "/usr/local/lib/python3.7/dist-packages/transformers/tokenization_utils_base.py:2110: FutureWarning: The `pad_to_max_length` argument is deprecated and will be removed in a future version, use `padding=True` or `padding='longest'` to pad to the longest sequence in the batch, or use `padding='max_length'` to pad to a max length. In this case, you can give a specific length with `max_length` (e.g. `max_length=45`) or leave max_length to None to pad to the maximal input size of the model (e.g. 512 for Bert).\n",
            "  FutureWarning,\n"
          ],
          "name": "stderr"
        }
      ]
    },
    {
      "cell_type": "code",
      "metadata": {
        "colab": {
          "base_uri": "https://localhost:8080/"
        },
        "id": "3X98xS-BUuhD",
        "outputId": "169922c0-de46-49e2-f95f-928f4b935154"
      },
      "source": [
        "print(train_inputs)\n",
        "print(train_masks)"
      ],
      "execution_count": null,
      "outputs": [
        {
          "output_type": "stream",
          "text": [
            "tensor([[  101,  1045,  4156,  ...,     0,     0,     0],\n",
            "        [  101,  2054,  2064,  ...,     0,     0,     0],\n",
            "        [  101,  1996,  9733,  ...,     0,     0,     0],\n",
            "        ...,\n",
            "        [  101,  6429, 13855,  ...,     0,     0,     0],\n",
            "        [  101,  2288,  2023,  ...,     0,     0,     0],\n",
            "        [  101,  2077,  2017,  ...,     0,     0,     0]])\n",
            "tensor([[1, 1, 1,  ..., 0, 0, 0],\n",
            "        [1, 1, 1,  ..., 0, 0, 0],\n",
            "        [1, 1, 1,  ..., 0, 0, 0],\n",
            "        ...,\n",
            "        [1, 1, 1,  ..., 0, 0, 0],\n",
            "        [1, 1, 1,  ..., 0, 0, 0],\n",
            "        [1, 1, 1,  ..., 0, 0, 0]])\n"
          ],
          "name": "stdout"
        }
      ]
    },
    {
      "cell_type": "code",
      "metadata": {
        "id": "AqZeeS0WlRov"
      },
      "source": [
        "from torch.utils.data import TensorDataset, DataLoader, RandomSampler, SequentialSampler\n",
        "\n",
        "# Convert other data types to torch.Tensor\n",
        "train_labels = torch.Tensor(y_train)\n",
        "val_labels = torch.Tensor(y_val)\n",
        "test_labels = torch.Tensor(y_test)\n",
        "\n",
        "train_labels = train_labels.type(torch.LongTensor)\n",
        "val_labels = val_labels.type(torch.LongTensor)\n",
        "test_labels = test_labels.type(torch.LongTensor)\n",
        "# Chosed batch size is 16.\n",
        "\n",
        "batch_size = 16\n",
        "\n",
        "# Create the DataLoader for our training set\n",
        "train_data = TensorDataset(train_inputs, train_masks, train_labels)\n",
        "train_sampler = RandomSampler(train_data)\n",
        "train_dataloader = DataLoader(train_data, sampler=train_sampler, batch_size=batch_size)\n",
        "\n",
        "# Create the DataLoader for our validation set\n",
        "val_data = TensorDataset(val_inputs, val_masks, val_labels)\n",
        "val_sampler = SequentialSampler(val_data)\n",
        "val_dataloader = DataLoader(val_data, sampler=val_sampler, batch_size=batch_size)\n",
        "\n",
        "# Create the DataLoader for our test set\n",
        "test_data = TensorDataset(test_inputs, test_masks, test_labels)\n",
        "test_sampler = SequentialSampler(test_data)\n",
        "test_dataloader = DataLoader(test_data, sampler=test_sampler, batch_size=batch_size)"
      ],
      "execution_count": null,
      "outputs": []
    },
    {
      "cell_type": "code",
      "metadata": {
        "colab": {
          "base_uri": "https://localhost:8080/"
        },
        "id": "Mp6SCnuklvt_",
        "outputId": "da6e7f8d-8fc2-4d38-d4f7-710385bd805e"
      },
      "source": [
        "%%time\n",
        "import torch\n",
        "import torch.nn as nn\n",
        "from transformers import BertModel\n",
        "\n",
        "# Create the BertClassfier class\n",
        "class BertClassifier(nn.Module):\n",
        "    \"\"\"Bert Model for Classification Tasks.\n",
        "    \"\"\"\n",
        "    def __init__(self, freeze_bert=False):\n",
        "        \"\"\"\n",
        "        @param    bert: a BertModel object\n",
        "        @param    classifier: a torch.nn.Module classifier\n",
        "        @param    freeze_bert (bool): Set `False` to fine-tune the BERT model\n",
        "        \"\"\"\n",
        "        super(BertClassifier, self).__init__()\n",
        "        # Specify hidden size of BERT, hidden size of our classifier, and number of labels \n",
        "        # Nr or labels is 6, because 0 (not used), 1,2,3,4,5 (ratings).\n",
        "        D_in, H, D_out = 768, 50, 6\n",
        "\n",
        "        # Instantiate BERT model\n",
        "        self.bert = BertModel.from_pretrained('bert-base-uncased')\n",
        "\n",
        "        # Instantiate an one-layer feed-forward classifier\n",
        "        self.classifier = nn.Sequential(\n",
        "            nn.Linear(D_in, H),\n",
        "            nn.ReLU(),\n",
        "            nn.Dropout(0.3),\n",
        "            nn.Linear(H, D_out)\n",
        "        )\n",
        "\n",
        "        # Freeze the BERT model\n",
        "        if freeze_bert:\n",
        "            for param in self.bert.parameters():\n",
        "                param.requires_grad = False\n",
        "        \n",
        "    def forward(self, input_ids, attention_mask):\n",
        "        \"\"\"\n",
        "        Feed input to BERT and the classifier to compute logits.\n",
        "        @param    input_ids (torch.Tensor): an input tensor with shape (batch_size,\n",
        "                      max_length)\n",
        "        @param    attention_mask (torch.Tensor): a tensor that hold attention mask\n",
        "                      information with shape (batch_size, max_length)\n",
        "        @return   logits (torch.Tensor): an output tensor with shape (batch_size,\n",
        "                      num_labels)\n",
        "        \"\"\"\n",
        "        # Feed input to BERT\n",
        "        outputs = self.bert(input_ids=input_ids,\n",
        "                            attention_mask=attention_mask)\n",
        "        \n",
        "        # Extract the last hidden state of the token `[CLS]` for classification task\n",
        "        last_hidden_state_cls = outputs[0][:, 0, :]\n",
        "\n",
        "        # Feed input to classifier to compute logits\n",
        "        logits = self.classifier(last_hidden_state_cls)\n",
        "\n",
        "        return logits"
      ],
      "execution_count": null,
      "outputs": [
        {
          "output_type": "stream",
          "text": [
            "CPU times: user 49 µs, sys: 2 µs, total: 51 µs\n",
            "Wall time: 55.1 µs\n"
          ],
          "name": "stdout"
        }
      ]
    },
    {
      "cell_type": "code",
      "metadata": {
        "id": "Z4dteaUllxfX"
      },
      "source": [
        "from transformers import AdamW, get_linear_schedule_with_warmup\n",
        "from transformers import BertForSequenceClassification, AdamW, BertConfig\n",
        "def initialize_model(epochs=4):\n",
        "    \"\"\"Initialize the Bert Classifier, the optimizer and the learning rate scheduler.\n",
        "    \"\"\"\n",
        "    # Instantiate Bert Classifier\n",
        "    model = BertClassifier(freeze_bert=False)\n",
        "   \n",
        "    # Tell PyTorch to run the model on GPU\n",
        "    model.to(device)\n",
        "    \n",
        "   # model = BertForSequenceClassification.from_pretrained(\n",
        "   # \"bert-base-uncased\", # Use the 12-layer BERT model, with an uncased vocab.\n",
        "    #num_labels = 6, # Five ratings  \n",
        "    #output_attentions = False, # Whether the model returns attentions weights.\n",
        "    #output_hidden_states = False, # Whether the model returns all hidden-states.)\n",
        "\n",
        "    # Tell pytorch to run this model on the GPU.\n",
        "    #model.to(device)\n",
        "    # Create the optimizer\n",
        "    optimizer = AdamW(model.parameters(),\n",
        "                      lr=5e-5,    # Default learning rate\n",
        "                      eps=1e-8    # Default epsilon value\n",
        "                      )\n",
        "\n",
        "    # Total number of training steps\n",
        "    total_steps = len(train_dataloader) * epochs\n",
        "\n",
        "    # Set up the learning rate scheduler\n",
        "    scheduler = get_linear_schedule_with_warmup(optimizer,\n",
        "                                                num_warmup_steps=0, # Default value\n",
        "                                                num_training_steps=total_steps)\n",
        "    return model, optimizer, scheduler"
      ],
      "execution_count": null,
      "outputs": []
    },
    {
      "cell_type": "code",
      "metadata": {
        "id": "xHOiOlcSl1VX"
      },
      "source": [
        "import random\n",
        "import time\n",
        "\n",
        "# Specify loss function\n",
        "loss_fn = nn.CrossEntropyLoss()\n",
        "\n",
        "def set_seed(seed_value=42):\n",
        "    \"\"\"Set seed for reproducibility.\n",
        "    \"\"\"\n",
        "    random.seed(seed_value)\n",
        "    np.random.seed(seed_value)\n",
        "    torch.manual_seed(seed_value)\n",
        "    torch.cuda.manual_seed_all(seed_value)\n",
        "\n",
        "def train(model, train_dataloader, val_dataloader=None, epochs=4, evaluation=False):\n",
        "    \"\"\"Train the BertClassifier model.\n",
        "    \"\"\"\n",
        "    train_losses = []\n",
        "    train_accs = []\n",
        "    val_losses = []\n",
        "    val_accs = []\n",
        "    # Start training loop\n",
        "    print(\"Start training...\\n\")\n",
        "    for epoch_i in range(epochs):\n",
        "        # =======================================\n",
        "        #               Training\n",
        "        # =======================================\n",
        "        # Print the header of the result table\n",
        "        print(f\"{'Epoch':^7} | {'Batch':^7} | {'Train Loss':^12} | {'Val Loss':^10} | {'Val Acc':^9} | {'Elapsed':^9}\")\n",
        "        print(\"-\"*70)\n",
        "\n",
        "        # Measure the elapsed time of each epoch\n",
        "        t0_epoch, t0_batch = time.time(), time.time()\n",
        "\n",
        "        # Reset tracking variables at the beginning of each epoch\n",
        "        total_loss, batch_loss, batch_counts = 0, 0, 0\n",
        "\n",
        "        # Put the model into the training mode\n",
        "        model.train()\n",
        "\n",
        "        # For each batch of training data...\n",
        "        for step, batch in enumerate(train_dataloader):\n",
        "            batch_counts +=1\n",
        "            # Load batch to GPU\n",
        "            b_input_ids, b_attn_mask, b_labels = tuple(t.to(device) for t in batch)\n",
        "\n",
        "            # Zero out any previously calculated gradients\n",
        "            model.zero_grad()\n",
        "            \n",
        "            \n",
        "            # Perform a forward pass. This will return logits.\n",
        "            logits = model(b_input_ids, b_attn_mask)\n",
        "\n",
        "            # Compute loss and accumulate the loss values\n",
        "            loss = loss_fn(logits, b_labels)\n",
        "            batch_loss += loss.item()\n",
        "            total_loss += loss.item()\n",
        "\n",
        "            # Perform a backward pass to calculate gradients\n",
        "            loss.backward()\n",
        "\n",
        "            # Clip the norm of the gradients to 1.0 to prevent \"exploding gradients\"\n",
        "            torch.nn.utils.clip_grad_norm_(model.parameters(), 1.0)\n",
        "\n",
        "            # Update parameters and the learning rate\n",
        "            optimizer.step()\n",
        "            scheduler.step()\n",
        "\n",
        "            # Print the loss values and time elapsed for every 20 batches\n",
        "            if (step % 20 == 0 and step != 0) or (step == len(train_dataloader) - 1):\n",
        "                # Calculate time elapsed for 20 batches\n",
        "                time_elapsed = time.time() - t0_batch\n",
        "\n",
        "                # Print training results\n",
        "                print(f\"{epoch_i + 1:^7} | {step:^7} | {batch_loss / batch_counts:^12.6f} | {'-':^10} | {'-':^9} | {time_elapsed:^9.2f}\")\n",
        "\n",
        "                # Reset batch tracking variables\n",
        "                batch_loss, batch_counts = 0, 0\n",
        "                t0_batch = time.time()\n",
        "\n",
        "        # Calculate the average loss over the entire training data\n",
        "        avg_train_loss = total_loss / len(train_dataloader)\n",
        "        train_losses.append(avg_train_loss)\n",
        "        print(\"-\"*70)\n",
        "        # =======================================\n",
        "        #               Evaluation\n",
        "        # =======================================\n",
        "        if evaluation == True:\n",
        "            # After the completion of each training epoch, measure the model's performance\n",
        "            # on our validation set.\n",
        "            val_loss, val_accuracy = evaluate(model, val_dataloader)\n",
        "            val_losses.append(val_loss)\n",
        "            val_accs.append(val_accuracy)\n",
        "            # Print performance over the entire training data\n",
        "            time_elapsed = time.time() - t0_epoch\n",
        "            \n",
        "            print(f\"{epoch_i + 1:^7} | {'-':^7} | {avg_train_loss:^12.6f} | {val_loss:^10.6f} | {val_accuracy:^9.2f} | {time_elapsed:^9.2f}\")\n",
        "            print(\"-\"*70)\n",
        "        print(\"\\n\")\n",
        "    \n",
        "    print(\"Training complete!\")\n",
        "\n",
        "    return train_losses, val_losses, val_accs\n",
        "\n",
        "\n",
        "def evaluate(model, val_dataloader):\n",
        "    \"\"\"After the completion of each training epoch, measure the model's performance\n",
        "    on our validation set.\n",
        "    \"\"\"\n",
        "    # Put the model into the evaluation mode. The dropout layers are disabled during\n",
        "    # the test time.\n",
        "    model.eval()\n",
        "\n",
        "    # Tracking variables\n",
        "    val_accuracy = []\n",
        "    val_loss = []\n",
        "\n",
        "    # For each batch in our validation set...\n",
        "    for batch in val_dataloader:\n",
        "        # Load batch to GPU\n",
        "        b_input_ids, b_attn_mask, b_labels = tuple(t.to(device) for t in batch)\n",
        "\n",
        "        # Compute logits\n",
        "        with torch.no_grad():\n",
        "            logits = model(b_input_ids, b_attn_mask)\n",
        "\n",
        "        # Compute loss\n",
        "        loss = loss_fn(logits, b_labels)\n",
        "        val_loss.append(loss.item())\n",
        "\n",
        "        # Get the predictions\n",
        "        preds = torch.argmax(logits, dim=1).flatten()\n",
        "\n",
        "        # Calculate the accuracy rate\n",
        "        accuracy = (preds == b_labels).cpu().numpy().mean() * 100\n",
        "        val_accuracy.append(accuracy)\n",
        "\n",
        "    # Compute the average accuracy and loss over the validation set.\n",
        "    val_loss = np.mean(val_loss)\n",
        "    val_accuracy = np.mean(val_accuracy)\n",
        "\n",
        "    return val_loss, val_accuracy"
      ],
      "execution_count": null,
      "outputs": []
    },
    {
      "cell_type": "code",
      "metadata": {
        "id": "Dvtp3ffNl3vI",
        "colab": {
          "base_uri": "https://localhost:8080/"
        },
        "outputId": "71b71899-5dea-462d-b3c4-506cf03964e7"
      },
      "source": [
        "torch.cuda.empty_cache()\n",
        "set_seed(42)    # Set seed for reproducibility\n",
        "bert_classifier, optimizer, scheduler = initialize_model(epochs=3)"
      ],
      "execution_count": null,
      "outputs": [
        {
          "output_type": "stream",
          "text": [
            "Some weights of the model checkpoint at bert-base-uncased were not used when initializing BertModel: ['cls.predictions.transform.LayerNorm.weight', 'cls.predictions.transform.dense.bias', 'cls.predictions.decoder.weight', 'cls.seq_relationship.bias', 'cls.predictions.transform.dense.weight', 'cls.predictions.transform.LayerNorm.bias', 'cls.predictions.bias', 'cls.seq_relationship.weight']\n",
            "- This IS expected if you are initializing BertModel from the checkpoint of a model trained on another task or with another architecture (e.g. initializing a BertForSequenceClassification model from a BertForPreTraining model).\n",
            "- This IS NOT expected if you are initializing BertModel from the checkpoint of a model that you expect to be exactly identical (initializing a BertForSequenceClassification model from a BertForSequenceClassification model).\n"
          ],
          "name": "stderr"
        }
      ]
    },
    {
      "cell_type": "code",
      "metadata": {
        "colab": {
          "base_uri": "https://localhost:8080/"
        },
        "id": "KuRPW788quEk",
        "outputId": "960a5bf4-8a47-438a-87ab-b480adbcd7cf"
      },
      "source": [
        "losses, val_losses, val_accs = train(bert_classifier, train_dataloader, val_dataloader, epochs=4, evaluation=True)"
      ],
      "execution_count": null,
      "outputs": [
        {
          "output_type": "stream",
          "text": [
            "Start training...\n",
            "\n",
            " Epoch  |  Batch  |  Train Loss  |  Val Loss  |  Val Acc  |  Elapsed \n",
            "----------------------------------------------------------------------\n",
            "   1    |   20    |   1.179312   |     -      |     -     |   18.82  \n",
            "   1    |   40    |   0.914620   |     -      |     -     |   17.79  \n",
            "   1    |   60    |   0.846483   |     -      |     -     |   17.75  \n",
            "   1    |   80    |   0.894927   |     -      |     -     |   17.77  \n",
            "   1    |   100   |   0.813486   |     -      |     -     |   17.74  \n",
            "   1    |   120   |   0.874901   |     -      |     -     |   17.72  \n",
            "   1    |   140   |   0.832457   |     -      |     -     |   17.74  \n",
            "   1    |   160   |   0.909778   |     -      |     -     |   17.73  \n",
            "   1    |   180   |   0.934741   |     -      |     -     |   17.77  \n",
            "   1    |   200   |   0.862944   |     -      |     -     |   17.72  \n",
            "   1    |   220   |   0.857277   |     -      |     -     |   17.75  \n",
            "   1    |   240   |   0.788866   |     -      |     -     |   17.74  \n",
            "   1    |   260   |   0.779721   |     -      |     -     |   17.74  \n",
            "   1    |   280   |   0.838258   |     -      |     -     |   17.69  \n",
            "   1    |   300   |   0.795415   |     -      |     -     |   17.72  \n",
            "   1    |   320   |   0.766297   |     -      |     -     |   17.72  \n",
            "   1    |   340   |   0.710900   |     -      |     -     |   17.68  \n",
            "   1    |   360   |   0.849321   |     -      |     -     |   17.72  \n",
            "   1    |   380   |   0.690179   |     -      |     -     |   17.73  \n",
            "   1    |   400   |   0.784188   |     -      |     -     |   17.69  \n",
            "   1    |   420   |   0.815789   |     -      |     -     |   17.70  \n",
            "   1    |   440   |   0.816170   |     -      |     -     |   17.70  \n",
            "   1    |   460   |   0.847797   |     -      |     -     |   17.72  \n",
            "   1    |   480   |   0.738443   |     -      |     -     |   17.69  \n",
            "   1    |   500   |   0.777005   |     -      |     -     |   17.71  \n",
            "   1    |   520   |   0.716031   |     -      |     -     |   17.69  \n",
            "   1    |   540   |   0.733858   |     -      |     -     |   17.72  \n",
            "   1    |   560   |   0.724081   |     -      |     -     |   17.68  \n",
            "   1    |   580   |   0.755855   |     -      |     -     |   17.71  \n",
            "   1    |   600   |   0.891412   |     -      |     -     |   17.73  \n",
            "   1    |   620   |   0.770413   |     -      |     -     |   17.69  \n",
            "   1    |   640   |   0.799707   |     -      |     -     |   17.72  \n",
            "   1    |   660   |   0.735555   |     -      |     -     |   17.70  \n",
            "   1    |   680   |   0.720330   |     -      |     -     |   17.71  \n",
            "   1    |   700   |   0.774738   |     -      |     -     |   17.74  \n",
            "   1    |   720   |   0.763407   |     -      |     -     |   17.72  \n",
            "   1    |   740   |   0.762723   |     -      |     -     |   17.71  \n",
            "   1    |   760   |   0.745852   |     -      |     -     |   17.71  \n",
            "   1    |   780   |   0.701136   |     -      |     -     |   17.70  \n",
            "   1    |   800   |   0.664688   |     -      |     -     |   17.74  \n",
            "   1    |   820   |   0.693153   |     -      |     -     |   17.71  \n",
            "   1    |   840   |   0.714044   |     -      |     -     |   17.70  \n",
            "   1    |   860   |   0.771080   |     -      |     -     |   17.71  \n",
            "   1    |   880   |   0.746873   |     -      |     -     |   17.72  \n",
            "   1    |   900   |   0.713146   |     -      |     -     |   17.72  \n",
            "   1    |   920   |   0.772493   |     -      |     -     |   17.73  \n",
            "   1    |   940   |   0.743179   |     -      |     -     |   17.72  \n",
            "   1    |   960   |   0.653892   |     -      |     -     |   17.73  \n",
            "   1    |   980   |   0.713570   |     -      |     -     |   17.71  \n",
            "   1    |  1000   |   0.783826   |     -      |     -     |   17.70  \n",
            "   1    |  1020   |   0.689315   |     -      |     -     |   17.68  \n",
            "   1    |  1040   |   0.780670   |     -      |     -     |   17.70  \n",
            "   1    |  1060   |   0.706266   |     -      |     -     |   17.69  \n",
            "   1    |  1080   |   0.681573   |     -      |     -     |   17.72  \n",
            "   1    |  1100   |   0.697283   |     -      |     -     |   17.70  \n",
            "   1    |  1120   |   0.737621   |     -      |     -     |   17.70  \n",
            "   1    |  1140   |   0.657197   |     -      |     -     |   17.75  \n",
            "   1    |  1160   |   0.696842   |     -      |     -     |   17.71  \n",
            "   1    |  1180   |   0.665326   |     -      |     -     |   17.71  \n",
            "   1    |  1200   |   0.880618   |     -      |     -     |   17.69  \n",
            "   1    |  1220   |   0.694305   |     -      |     -     |   17.69  \n",
            "   1    |  1240   |   0.719745   |     -      |     -     |   17.71  \n",
            "   1    |  1260   |   0.657139   |     -      |     -     |   17.71  \n",
            "   1    |  1280   |   0.756096   |     -      |     -     |   17.71  \n",
            "   1    |  1300   |   0.732134   |     -      |     -     |   17.72  \n",
            "   1    |  1320   |   0.727866   |     -      |     -     |   17.72  \n",
            "   1    |  1340   |   0.763655   |     -      |     -     |   17.67  \n",
            "   1    |  1360   |   0.626527   |     -      |     -     |   17.72  \n",
            "   1    |  1380   |   0.725736   |     -      |     -     |   17.72  \n",
            "   1    |  1400   |   0.655311   |     -      |     -     |   17.69  \n",
            "   1    |  1420   |   0.682066   |     -      |     -     |   17.69  \n",
            "   1    |  1440   |   0.697598   |     -      |     -     |   17.71  \n",
            "   1    |  1460   |   0.706184   |     -      |     -     |   17.72  \n",
            "   1    |  1480   |   0.633971   |     -      |     -     |   17.72  \n",
            "   1    |  1500   |   0.655385   |     -      |     -     |   17.72  \n",
            "   1    |  1520   |   0.662612   |     -      |     -     |   17.71  \n",
            "   1    |  1540   |   0.685095   |     -      |     -     |   17.72  \n",
            "   1    |  1560   |   0.638838   |     -      |     -     |   17.75  \n",
            "   1    |  1580   |   0.624588   |     -      |     -     |   17.73  \n",
            "   1    |  1600   |   0.717856   |     -      |     -     |   17.70  \n",
            "   1    |  1620   |   0.681120   |     -      |     -     |   17.70  \n",
            "   1    |  1640   |   0.627824   |     -      |     -     |   17.72  \n",
            "   1    |  1660   |   0.738299   |     -      |     -     |   17.73  \n",
            "   1    |  1680   |   0.717595   |     -      |     -     |   17.73  \n",
            "   1    |  1700   |   0.683794   |     -      |     -     |   17.68  \n",
            "   1    |  1720   |   0.765864   |     -      |     -     |   17.72  \n",
            "   1    |  1731   |   0.663284   |     -      |     -     |   9.14   \n",
            "----------------------------------------------------------------------\n",
            "   1    |    -    |   0.751478   |  0.645297  |   74.07   |  1603.51 \n",
            "----------------------------------------------------------------------\n",
            "\n",
            "\n",
            " Epoch  |  Batch  |  Train Loss  |  Val Loss  |  Val Acc  |  Elapsed \n",
            "----------------------------------------------------------------------\n",
            "   2    |   20    |   0.570705   |     -      |     -     |   18.60  \n",
            "   2    |   40    |   0.616507   |     -      |     -     |   17.73  \n",
            "   2    |   60    |   0.665088   |     -      |     -     |   17.74  \n",
            "   2    |   80    |   0.620174   |     -      |     -     |   17.75  \n",
            "   2    |   100   |   0.683883   |     -      |     -     |   17.73  \n",
            "   2    |   120   |   0.680497   |     -      |     -     |   17.73  \n",
            "   2    |   140   |   0.635578   |     -      |     -     |   17.71  \n",
            "   2    |   160   |   0.586023   |     -      |     -     |   17.70  \n",
            "   2    |   180   |   0.609150   |     -      |     -     |   17.74  \n",
            "   2    |   200   |   0.550351   |     -      |     -     |   17.74  \n",
            "   2    |   220   |   0.759301   |     -      |     -     |   17.75  \n",
            "   2    |   240   |   0.648531   |     -      |     -     |   17.72  \n",
            "   2    |   260   |   0.720915   |     -      |     -     |   17.71  \n",
            "   2    |   280   |   0.654816   |     -      |     -     |   17.72  \n",
            "   2    |   300   |   0.716216   |     -      |     -     |   17.74  \n",
            "   2    |   320   |   0.625733   |     -      |     -     |   17.71  \n",
            "   2    |   340   |   0.628367   |     -      |     -     |   17.72  \n",
            "   2    |   360   |   0.617536   |     -      |     -     |   17.72  \n",
            "   2    |   380   |   0.607139   |     -      |     -     |   17.74  \n",
            "   2    |   400   |   0.631878   |     -      |     -     |   17.71  \n",
            "   2    |   420   |   0.653916   |     -      |     -     |   17.71  \n",
            "   2    |   440   |   0.608232   |     -      |     -     |   17.72  \n",
            "   2    |   460   |   0.592571   |     -      |     -     |   17.72  \n",
            "   2    |   480   |   0.574143   |     -      |     -     |   17.71  \n",
            "   2    |   500   |   0.553173   |     -      |     -     |   17.73  \n",
            "   2    |   520   |   0.662214   |     -      |     -     |   17.70  \n",
            "   2    |   540   |   0.651871   |     -      |     -     |   17.74  \n",
            "   2    |   560   |   0.607951   |     -      |     -     |   17.69  \n",
            "   2    |   580   |   0.661632   |     -      |     -     |   17.73  \n",
            "   2    |   600   |   0.679114   |     -      |     -     |   17.71  \n",
            "   2    |   620   |   0.596878   |     -      |     -     |   17.76  \n",
            "   2    |   640   |   0.476207   |     -      |     -     |   17.73  \n",
            "   2    |   660   |   0.646742   |     -      |     -     |   17.73  \n",
            "   2    |   680   |   0.624397   |     -      |     -     |   17.69  \n",
            "   2    |   700   |   0.522566   |     -      |     -     |   17.70  \n",
            "   2    |   720   |   0.569259   |     -      |     -     |   17.70  \n",
            "   2    |   740   |   0.610763   |     -      |     -     |   17.73  \n",
            "   2    |   760   |   0.578178   |     -      |     -     |   17.71  \n",
            "   2    |   780   |   0.661021   |     -      |     -     |   17.71  \n",
            "   2    |   800   |   0.583004   |     -      |     -     |   17.74  \n",
            "   2    |   820   |   0.538321   |     -      |     -     |   17.67  \n",
            "   2    |   840   |   0.629543   |     -      |     -     |   17.73  \n",
            "   2    |   860   |   0.631420   |     -      |     -     |   17.70  \n",
            "   2    |   880   |   0.618428   |     -      |     -     |   17.75  \n",
            "   2    |   900   |   0.688127   |     -      |     -     |   17.73  \n",
            "   2    |   920   |   0.544067   |     -      |     -     |   17.71  \n",
            "   2    |   940   |   0.585027   |     -      |     -     |   17.69  \n",
            "   2    |   960   |   0.661426   |     -      |     -     |   17.71  \n",
            "   2    |   980   |   0.592464   |     -      |     -     |   17.71  \n",
            "   2    |  1000   |   0.642434   |     -      |     -     |   17.71  \n",
            "   2    |  1020   |   0.550542   |     -      |     -     |   17.74  \n",
            "   2    |  1040   |   0.642656   |     -      |     -     |   17.69  \n",
            "   2    |  1060   |   0.545189   |     -      |     -     |   17.73  \n",
            "   2    |  1080   |   0.677945   |     -      |     -     |   17.73  \n",
            "   2    |  1100   |   0.564093   |     -      |     -     |   17.71  \n",
            "   2    |  1120   |   0.640467   |     -      |     -     |   17.71  \n",
            "   2    |  1140   |   0.678399   |     -      |     -     |   17.70  \n",
            "   2    |  1160   |   0.525570   |     -      |     -     |   17.72  \n",
            "   2    |  1180   |   0.666155   |     -      |     -     |   17.67  \n",
            "   2    |  1200   |   0.644566   |     -      |     -     |   17.73  \n",
            "   2    |  1220   |   0.677864   |     -      |     -     |   17.71  \n",
            "   2    |  1240   |   0.529746   |     -      |     -     |   17.70  \n",
            "   2    |  1260   |   0.556206   |     -      |     -     |   17.73  \n",
            "   2    |  1280   |   0.623949   |     -      |     -     |   17.69  \n",
            "   2    |  1300   |   0.610358   |     -      |     -     |   17.74  \n",
            "   2    |  1320   |   0.528828   |     -      |     -     |   17.73  \n",
            "   2    |  1340   |   0.637932   |     -      |     -     |   17.71  \n",
            "   2    |  1360   |   0.560049   |     -      |     -     |   17.71  \n",
            "   2    |  1380   |   0.511543   |     -      |     -     |   17.71  \n",
            "   2    |  1400   |   0.552783   |     -      |     -     |   17.71  \n",
            "   2    |  1420   |   0.534853   |     -      |     -     |   17.74  \n",
            "   2    |  1440   |   0.576552   |     -      |     -     |   17.71  \n",
            "   2    |  1460   |   0.650463   |     -      |     -     |   17.75  \n",
            "   2    |  1480   |   0.617810   |     -      |     -     |   17.74  \n",
            "   2    |  1500   |   0.589086   |     -      |     -     |   17.71  \n",
            "   2    |  1520   |   0.511966   |     -      |     -     |   17.68  \n",
            "   2    |  1540   |   0.690681   |     -      |     -     |   17.74  \n",
            "   2    |  1560   |   0.539902   |     -      |     -     |   17.72  \n",
            "   2    |  1580   |   0.633410   |     -      |     -     |   17.72  \n",
            "   2    |  1600   |   0.676920   |     -      |     -     |   17.73  \n",
            "   2    |  1620   |   0.653644   |     -      |     -     |   17.72  \n",
            "   2    |  1640   |   0.588196   |     -      |     -     |   17.72  \n",
            "   2    |  1660   |   0.645839   |     -      |     -     |   17.69  \n",
            "   2    |  1680   |   0.515630   |     -      |     -     |   17.73  \n",
            "   2    |  1700   |   0.658765   |     -      |     -     |   17.73  \n",
            "   2    |  1720   |   0.555605   |     -      |     -     |   17.72  \n",
            "   2    |  1731   |   0.515624   |     -      |     -     |   9.16   \n",
            "----------------------------------------------------------------------\n",
            "   2    |    -    |   0.611429   |  0.664534  |   73.82   |  1603.63 \n",
            "----------------------------------------------------------------------\n",
            "\n",
            "\n",
            " Epoch  |  Batch  |  Train Loss  |  Val Loss  |  Val Acc  |  Elapsed \n",
            "----------------------------------------------------------------------\n",
            "   3    |   20    |   0.488363   |     -      |     -     |   18.63  \n",
            "   3    |   40    |   0.467027   |     -      |     -     |   17.75  \n",
            "   3    |   60    |   0.448836   |     -      |     -     |   17.73  \n",
            "   3    |   80    |   0.501791   |     -      |     -     |   17.73  \n",
            "   3    |   100   |   0.482245   |     -      |     -     |   17.73  \n",
            "   3    |   120   |   0.474256   |     -      |     -     |   17.73  \n",
            "   3    |   140   |   0.456825   |     -      |     -     |   17.74  \n",
            "   3    |   160   |   0.446349   |     -      |     -     |   17.72  \n",
            "   3    |   180   |   0.388290   |     -      |     -     |   17.71  \n",
            "   3    |   200   |   0.452060   |     -      |     -     |   17.76  \n",
            "   3    |   220   |   0.533434   |     -      |     -     |   17.68  \n",
            "   3    |   240   |   0.498264   |     -      |     -     |   17.72  \n",
            "   3    |   260   |   0.361532   |     -      |     -     |   17.71  \n",
            "   3    |   280   |   0.419648   |     -      |     -     |   17.74  \n",
            "   3    |   300   |   0.456434   |     -      |     -     |   17.75  \n",
            "   3    |   320   |   0.425528   |     -      |     -     |   17.75  \n",
            "   3    |   340   |   0.499351   |     -      |     -     |   17.70  \n",
            "   3    |   360   |   0.463914   |     -      |     -     |   17.70  \n",
            "   3    |   380   |   0.457546   |     -      |     -     |   17.71  \n",
            "   3    |   400   |   0.483015   |     -      |     -     |   17.68  \n",
            "   3    |   420   |   0.521631   |     -      |     -     |   17.71  \n",
            "   3    |   440   |   0.442752   |     -      |     -     |   17.71  \n",
            "   3    |   460   |   0.477689   |     -      |     -     |   17.70  \n",
            "   3    |   480   |   0.470635   |     -      |     -     |   17.67  \n",
            "   3    |   500   |   0.474212   |     -      |     -     |   17.70  \n",
            "   3    |   520   |   0.491331   |     -      |     -     |   17.73  \n",
            "   3    |   540   |   0.493569   |     -      |     -     |   17.69  \n",
            "   3    |   560   |   0.413426   |     -      |     -     |   17.70  \n",
            "   3    |   580   |   0.440326   |     -      |     -     |   17.73  \n",
            "   3    |   600   |   0.534303   |     -      |     -     |   17.72  \n",
            "   3    |   620   |   0.449058   |     -      |     -     |   17.71  \n",
            "   3    |   640   |   0.469187   |     -      |     -     |   17.72  \n",
            "   3    |   660   |   0.509721   |     -      |     -     |   17.72  \n",
            "   3    |   680   |   0.411231   |     -      |     -     |   17.77  \n",
            "   3    |   700   |   0.469175   |     -      |     -     |   17.75  \n",
            "   3    |   720   |   0.494962   |     -      |     -     |   17.72  \n",
            "   3    |   740   |   0.438010   |     -      |     -     |   17.73  \n",
            "   3    |   760   |   0.447052   |     -      |     -     |   17.74  \n",
            "   3    |   780   |   0.429868   |     -      |     -     |   17.74  \n",
            "   3    |   800   |   0.423162   |     -      |     -     |   17.68  \n",
            "   3    |   820   |   0.449803   |     -      |     -     |   17.73  \n",
            "   3    |   840   |   0.540736   |     -      |     -     |   17.73  \n",
            "   3    |   860   |   0.476867   |     -      |     -     |   17.70  \n",
            "   3    |   880   |   0.526298   |     -      |     -     |   17.69  \n",
            "   3    |   900   |   0.488167   |     -      |     -     |   17.70  \n",
            "   3    |   920   |   0.441749   |     -      |     -     |   17.77  \n",
            "   3    |   940   |   0.461501   |     -      |     -     |   17.72  \n",
            "   3    |   960   |   0.509305   |     -      |     -     |   17.72  \n",
            "   3    |   980   |   0.425766   |     -      |     -     |   17.73  \n",
            "   3    |  1000   |   0.475336   |     -      |     -     |   17.73  \n",
            "   3    |  1020   |   0.483838   |     -      |     -     |   17.72  \n",
            "   3    |  1040   |   0.447317   |     -      |     -     |   17.72  \n",
            "   3    |  1060   |   0.442124   |     -      |     -     |   17.75  \n",
            "   3    |  1080   |   0.540239   |     -      |     -     |   17.77  \n",
            "   3    |  1100   |   0.588628   |     -      |     -     |   17.71  \n",
            "   3    |  1120   |   0.432110   |     -      |     -     |   17.76  \n",
            "   3    |  1140   |   0.416892   |     -      |     -     |   17.72  \n",
            "   3    |  1160   |   0.483305   |     -      |     -     |   17.70  \n",
            "   3    |  1180   |   0.377720   |     -      |     -     |   17.71  \n",
            "   3    |  1200   |   0.426437   |     -      |     -     |   17.74  \n",
            "   3    |  1220   |   0.417383   |     -      |     -     |   17.72  \n",
            "   3    |  1240   |   0.419515   |     -      |     -     |   17.72  \n",
            "   3    |  1260   |   0.422970   |     -      |     -     |   17.71  \n",
            "   3    |  1280   |   0.453446   |     -      |     -     |   17.73  \n",
            "   3    |  1300   |   0.476775   |     -      |     -     |   17.75  \n",
            "   3    |  1320   |   0.428299   |     -      |     -     |   17.72  \n",
            "   3    |  1340   |   0.385941   |     -      |     -     |   17.71  \n",
            "   3    |  1360   |   0.528156   |     -      |     -     |   17.74  \n",
            "   3    |  1380   |   0.379044   |     -      |     -     |   17.82  \n",
            "   3    |  1400   |   0.546181   |     -      |     -     |   17.84  \n",
            "   3    |  1420   |   0.470387   |     -      |     -     |   17.82  \n",
            "   3    |  1440   |   0.386082   |     -      |     -     |   17.81  \n",
            "   3    |  1460   |   0.470412   |     -      |     -     |   17.84  \n",
            "   3    |  1480   |   0.422380   |     -      |     -     |   17.86  \n",
            "   3    |  1500   |   0.396936   |     -      |     -     |   17.85  \n",
            "   3    |  1520   |   0.470410   |     -      |     -     |   17.84  \n",
            "   3    |  1540   |   0.511716   |     -      |     -     |   17.84  \n",
            "   3    |  1560   |   0.434714   |     -      |     -     |   17.81  \n",
            "   3    |  1580   |   0.471134   |     -      |     -     |   17.84  \n",
            "   3    |  1600   |   0.408928   |     -      |     -     |   17.82  \n",
            "   3    |  1620   |   0.515738   |     -      |     -     |   17.82  \n",
            "   3    |  1640   |   0.372634   |     -      |     -     |   17.85  \n",
            "   3    |  1660   |   0.504605   |     -      |     -     |   17.83  \n",
            "   3    |  1680   |   0.435217   |     -      |     -     |   17.81  \n",
            "   3    |  1700   |   0.468623   |     -      |     -     |   17.87  \n",
            "   3    |  1720   |   0.520584   |     -      |     -     |   17.83  \n",
            "   3    |  1731   |   0.577861   |     -      |     -     |   9.23   \n",
            "----------------------------------------------------------------------\n",
            "   3    |    -    |   0.461901   |  0.760958  |   72.38   |  1606.32 \n",
            "----------------------------------------------------------------------\n",
            "\n",
            "\n",
            " Epoch  |  Batch  |  Train Loss  |  Val Loss  |  Val Acc  |  Elapsed \n",
            "----------------------------------------------------------------------\n",
            "   4    |   20    |   0.405527   |     -      |     -     |   18.68  \n",
            "   4    |   40    |   0.430850   |     -      |     -     |   17.83  \n",
            "   4    |   60    |   0.382521   |     -      |     -     |   17.84  \n",
            "   4    |   80    |   0.390752   |     -      |     -     |   17.82  \n",
            "   4    |   100   |   0.380759   |     -      |     -     |   17.86  \n",
            "   4    |   120   |   0.323402   |     -      |     -     |   17.81  \n",
            "   4    |   140   |   0.336638   |     -      |     -     |   17.83  \n",
            "   4    |   160   |   0.361414   |     -      |     -     |   17.84  \n",
            "   4    |   180   |   0.343847   |     -      |     -     |   17.84  \n",
            "   4    |   200   |   0.348674   |     -      |     -     |   17.85  \n",
            "   4    |   220   |   0.348548   |     -      |     -     |   17.83  \n",
            "   4    |   240   |   0.391453   |     -      |     -     |   17.84  \n",
            "   4    |   260   |   0.266528   |     -      |     -     |   17.80  \n",
            "   4    |   280   |   0.377001   |     -      |     -     |   17.82  \n",
            "   4    |   300   |   0.335412   |     -      |     -     |   17.83  \n",
            "   4    |   320   |   0.385645   |     -      |     -     |   17.83  \n",
            "   4    |   340   |   0.397268   |     -      |     -     |   17.82  \n",
            "   4    |   360   |   0.462322   |     -      |     -     |   17.86  \n",
            "   4    |   380   |   0.374967   |     -      |     -     |   17.81  \n",
            "   4    |   400   |   0.340633   |     -      |     -     |   17.80  \n",
            "   4    |   420   |   0.379966   |     -      |     -     |   17.83  \n",
            "   4    |   440   |   0.396217   |     -      |     -     |   17.84  \n",
            "   4    |   460   |   0.349352   |     -      |     -     |   17.84  \n",
            "   4    |   480   |   0.324453   |     -      |     -     |   17.81  \n",
            "   4    |   500   |   0.393984   |     -      |     -     |   17.83  \n",
            "   4    |   520   |   0.357573   |     -      |     -     |   17.81  \n",
            "   4    |   540   |   0.366536   |     -      |     -     |   17.81  \n",
            "   4    |   560   |   0.310318   |     -      |     -     |   17.82  \n",
            "   4    |   580   |   0.399350   |     -      |     -     |   17.81  \n",
            "   4    |   600   |   0.325825   |     -      |     -     |   17.82  \n",
            "   4    |   620   |   0.431344   |     -      |     -     |   17.86  \n",
            "   4    |   640   |   0.424339   |     -      |     -     |   17.84  \n",
            "   4    |   660   |   0.442776   |     -      |     -     |   17.84  \n",
            "   4    |   680   |   0.385542   |     -      |     -     |   17.82  \n",
            "   4    |   700   |   0.428536   |     -      |     -     |   17.85  \n",
            "   4    |   720   |   0.394859   |     -      |     -     |   17.83  \n",
            "   4    |   740   |   0.338734   |     -      |     -     |   17.81  \n",
            "   4    |   760   |   0.461863   |     -      |     -     |   17.83  \n",
            "   4    |   780   |   0.393934   |     -      |     -     |   17.81  \n",
            "   4    |   800   |   0.383950   |     -      |     -     |   17.84  \n",
            "   4    |   820   |   0.360994   |     -      |     -     |   17.84  \n",
            "   4    |   840   |   0.407271   |     -      |     -     |   17.84  \n",
            "   4    |   860   |   0.438908   |     -      |     -     |   17.82  \n",
            "   4    |   880   |   0.334490   |     -      |     -     |   17.85  \n",
            "   4    |   900   |   0.359906   |     -      |     -     |   17.85  \n",
            "   4    |   920   |   0.368526   |     -      |     -     |   17.85  \n",
            "   4    |   940   |   0.307485   |     -      |     -     |   17.83  \n",
            "   4    |   960   |   0.288132   |     -      |     -     |   17.84  \n",
            "   4    |   980   |   0.314889   |     -      |     -     |   17.83  \n",
            "   4    |  1000   |   0.387156   |     -      |     -     |   17.81  \n",
            "   4    |  1020   |   0.416355   |     -      |     -     |   17.81  \n",
            "   4    |  1040   |   0.393303   |     -      |     -     |   17.81  \n",
            "   4    |  1060   |   0.341470   |     -      |     -     |   17.84  \n",
            "   4    |  1080   |   0.358042   |     -      |     -     |   17.83  \n",
            "   4    |  1100   |   0.412150   |     -      |     -     |   17.82  \n",
            "   4    |  1120   |   0.348658   |     -      |     -     |   17.82  \n",
            "   4    |  1140   |   0.440019   |     -      |     -     |   17.82  \n",
            "   4    |  1160   |   0.368675   |     -      |     -     |   17.79  \n",
            "   4    |  1180   |   0.365966   |     -      |     -     |   17.83  \n",
            "   4    |  1200   |   0.379730   |     -      |     -     |   17.84  \n",
            "   4    |  1220   |   0.344937   |     -      |     -     |   17.84  \n",
            "   4    |  1240   |   0.387023   |     -      |     -     |   17.80  \n",
            "   4    |  1260   |   0.421808   |     -      |     -     |   17.85  \n",
            "   4    |  1280   |   0.363060   |     -      |     -     |   17.84  \n",
            "   4    |  1300   |   0.396819   |     -      |     -     |   17.82  \n",
            "   4    |  1320   |   0.373477   |     -      |     -     |   17.85  \n",
            "   4    |  1340   |   0.380237   |     -      |     -     |   17.83  \n",
            "   4    |  1360   |   0.339394   |     -      |     -     |   17.82  \n",
            "   4    |  1380   |   0.384458   |     -      |     -     |   17.83  \n",
            "   4    |  1400   |   0.301165   |     -      |     -     |   17.80  \n",
            "   4    |  1420   |   0.350296   |     -      |     -     |   17.80  \n",
            "   4    |  1440   |   0.384732   |     -      |     -     |   17.85  \n",
            "   4    |  1460   |   0.365851   |     -      |     -     |   17.80  \n",
            "   4    |  1480   |   0.453353   |     -      |     -     |   17.83  \n",
            "   4    |  1500   |   0.370474   |     -      |     -     |   17.82  \n",
            "   4    |  1520   |   0.345673   |     -      |     -     |   17.83  \n",
            "   4    |  1540   |   0.344741   |     -      |     -     |   17.81  \n",
            "   4    |  1560   |   0.360852   |     -      |     -     |   17.81  \n",
            "   4    |  1580   |   0.430105   |     -      |     -     |   17.79  \n",
            "   4    |  1600   |   0.365713   |     -      |     -     |   17.82  \n",
            "   4    |  1620   |   0.324142   |     -      |     -     |   17.82  \n",
            "   4    |  1640   |   0.346706   |     -      |     -     |   17.83  \n",
            "   4    |  1660   |   0.404902   |     -      |     -     |   17.83  \n",
            "   4    |  1680   |   0.340507   |     -      |     -     |   17.84  \n",
            "   4    |  1700   |   0.425943   |     -      |     -     |   17.81  \n",
            "   4    |  1720   |   0.417022   |     -      |     -     |   17.83  \n",
            "   4    |  1731   |   0.332526   |     -      |     -     |   9.22   \n",
            "----------------------------------------------------------------------\n",
            "   4    |    -    |   0.374045   |  0.760958  |   72.38   |  1613.24 \n",
            "----------------------------------------------------------------------\n",
            "\n",
            "\n",
            "Training complete!\n"
          ],
          "name": "stdout"
        }
      ]
    },
    {
      "cell_type": "code",
      "metadata": {
        "colab": {
          "base_uri": "https://localhost:8080/",
          "height": 365
        },
        "id": "jnL8NAbnrwu6",
        "outputId": "376fe6f6-5d9a-436d-a164-f254a700dca1"
      },
      "source": [
        "print(losses)\n",
        "print(val_losses)\n",
        "print(val_accs)\n",
        "vals = []\n",
        "\n",
        "for val in val_accs:\n",
        "  vals.append(val/100)\n",
        "plt.plot(losses, label='train losses')\n",
        "plt.plot(val_losses, label='validation losses')\n",
        "#plt.plot(vals, label='validation accuracy')\n",
        "plt.title('Training history')\n",
        "plt.ylabel('Loss')\n",
        "plt.xlabel('Epoch')\n",
        "plt.legend()"
      ],
      "execution_count": null,
      "outputs": [
        {
          "output_type": "stream",
          "text": [
            "[0.7514780490695742, 0.6114291545975842, 0.4619006322714012, 0.3740449712566567]\n",
            "[0.6452969710947731, 0.6645339756242691, 0.7609584263530195, 0.7609584263530195]\n",
            "[74.07422646477946, 73.8150098749177, 72.38314680710994, 72.38314680710994]\n"
          ],
          "name": "stdout"
        },
        {
          "output_type": "execute_result",
          "data": {
            "text/plain": [
              "<matplotlib.legend.Legend at 0x7f87a01a14d0>"
            ]
          },
          "metadata": {
            "tags": []
          },
          "execution_count": 37
        },
        {
          "output_type": "display_data",
          "data": {
            "image/png": "[encoded data removed]",
            "text/plain": [
              "<Figure size 432x288 with 1 Axes>"
            ]
          },
          "metadata": {
            "tags": [],
            "needs_background": "light"
          }
        }
      ]
    },
    {
      "cell_type": "code",
      "metadata": {
        "colab": {
          "base_uri": "https://localhost:8080/",
          "height": 313
        },
        "id": "v2SKgKnwryc6",
        "outputId": "d1a25b24-2dc1-4bb9-a91e-fc575ffa90c2"
      },
      "source": [
        "plt.plot(vals, label='validation accuracy')\n",
        "plt.title('Training history validation accuracy')\n",
        "plt.ylabel('Accuracy')\n",
        "plt.xlabel('Epoch')\n",
        "plt.legend()"
      ],
      "execution_count": null,
      "outputs": [
        {
          "output_type": "execute_result",
          "data": {
            "text/plain": [
              "<matplotlib.legend.Legend at 0x7f879fae8e90>"
            ]
          },
          "metadata": {
            "tags": []
          },
          "execution_count": 38
        },
        {
          "output_type": "display_data",
          "data": {
            "image/png": "[encoded data removed]",
            "text/plain": [
              "<Figure size 432x288 with 1 Axes>"
            ]
          },
          "metadata": {
            "tags": [],
            "needs_background": "light"
          }
        }
      ]
    },
    {
      "cell_type": "code",
      "metadata": {
        "id": "lWxALa4Poskz"
      },
      "source": [
        "import torch.nn.functional as F\n",
        "\n",
        "def bert_predict(model, test_dataloader):\n",
        "    \"\"\"Perform a forward pass on the trained BERT model to predict probabilities\n",
        "    on the test set.\n",
        "    \"\"\"\n",
        "    # Put the model into the evaluation mode. The dropout layers are disabled during\n",
        "    # the test time.\n",
        "    model.eval()\n",
        "\n",
        "    all_logits = []\n",
        "\n",
        "    # For each batch in our test set...\n",
        "    for batch in test_dataloader:\n",
        "        # Load batch to GPU\n",
        "        b_input_ids, b_attn_mask = tuple(t.to(device) for t in batch)[:2]\n",
        "\n",
        "        # Compute logits\n",
        "        with torch.no_grad():\n",
        "            logits = model(b_input_ids, b_attn_mask)\n",
        "        all_logits.append(logits)\n",
        "    \n",
        "    # Concatenate logits from each batch\n",
        "    all_logits = torch.cat(all_logits, dim=0)\n",
        "\n",
        "    # Apply softmax to calculate probabilities\n",
        "    probs = F.softmax(all_logits, dim=1).cpu().numpy()\n",
        "\n",
        "    return probs"
      ],
      "execution_count": null,
      "outputs": []
    },
    {
      "cell_type": "markdown",
      "metadata": {
        "id": "6pdsL7zr9J3Q"
      },
      "source": [
        "Evaluation on test data"
      ]
    },
    {
      "cell_type": "code",
      "metadata": {
        "colab": {
          "base_uri": "https://localhost:8080/"
        },
        "id": "sg6XKtKRr69E",
        "outputId": "bf2c0a2a-0339-41c1-d438-ecb7b5be59ff"
      },
      "source": [
        "# Evaluate the Bert classifier\n",
        "from sklearn.metrics import accuracy_score\n",
        "from sklearn.metrics import confusion_matrix, classification_report\n",
        "probs = bert_predict(bert_classifier, test_dataloader)\n",
        "preds=[]\n",
        "for i in probs:\n",
        "  arg = np.argmax(i)\n",
        "  preds.append(arg)\n",
        "\n",
        "accuracy = accuracy_score(y_test, preds)\n",
        "print(f'Accuracy: {accuracy*100:.2f}%')"
      ],
      "execution_count": null,
      "outputs": [
        {
          "output_type": "stream",
          "text": [
            "Accuracy: 73.81%\n"
          ],
          "name": "stdout"
        }
      ]
    },
    {
      "cell_type": "code",
      "metadata": {
        "colab": {
          "base_uri": "https://localhost:8080/"
        },
        "id": "LkfHReSesBdW",
        "outputId": "ff2bb47f-11cd-4c3a-ca85-656d8a7838bd"
      },
      "source": [
        "from sklearn.metrics import confusion_matrix, classification_report\n",
        "\n",
        "print(confusion_matrix(y_test, preds))\n",
        "print('\\n')\n",
        "print(classification_report(y_test, preds))"
      ],
      "execution_count": null,
      "outputs": [
        {
          "output_type": "stream",
          "text": [
            "[[  16   10    7    5    4]\n",
            " [   7    6   18    5    6]\n",
            " [   6    9   45   80   12]\n",
            " [   3    2   27  387  461]\n",
            " [   1    0    5  239 2102]]\n",
            "\n",
            "\n",
            "              precision    recall  f1-score   support\n",
            "\n",
            "         1.0       0.48      0.38      0.43        42\n",
            "         2.0       0.22      0.14      0.17        42\n",
            "         3.0       0.44      0.30      0.35       152\n",
            "         4.0       0.54      0.44      0.48       880\n",
            "         5.0       0.81      0.90      0.85      2347\n",
            "\n",
            "    accuracy                           0.74      3463\n",
            "   macro avg       0.50      0.43      0.46      3463\n",
            "weighted avg       0.72      0.74      0.72      3463\n",
            "\n"
          ],
          "name": "stdout"
        }
      ]
    },
    {
      "cell_type": "code",
      "metadata": {
        "colab": {
          "base_uri": "https://localhost:8080/"
        },
        "id": "IUCOiZpLsC3D",
        "outputId": "1eda16bb-a240-4944-cef4-01a06b0e1495"
      },
      "source": [
        "idx = 99 #just a sample value\n",
        "\n",
        "review_text = X_test[idx]\n",
        "print(review_text)\n",
        "true_rating = y_test[idx]\n",
        "print(true_rating)\n",
        "\n",
        "pred_df = preds[idx]\n",
        "print(pred_df)"
      ],
      "execution_count": null,
      "outputs": [
        {
          "output_type": "stream",
          "text": [
            "Great price. Easy access to apps. Simply love it!!\n",
            "5.0\n",
            "5\n"
          ],
          "name": "stdout"
        }
      ]
    },
    {
      "cell_type": "code",
      "metadata": {
        "colab": {
          "base_uri": "https://localhost:8080/",
          "height": 281
        },
        "id": "RyEpUHeG9MqD",
        "outputId": "883cf2b8-e3b4-4007-8768-af52989df0f0"
      },
      "source": [
        "def show_conf_matrix(confusion_matrix):\n",
        "  hmap =sns.heatmap(confusion_matrix, annot=True, fmt=\"d\", cmap=\"Blues\")\n",
        "  hmap.yaxis.set_ticklabels(hmap.yaxis.get_ticklabels(), rotation = 0, ha='right')\n",
        "  hmap.xaxis.set_ticklabels(hmap.xaxis.get_ticklabels(), rotation = 30, ha ='right')\n",
        "  plt.ylabel('True rating')\n",
        "  plt.xlabel('Predicted rating')\n",
        "\n",
        "ratings = [1,2,3,4,5]\n",
        "\n",
        "cm = confusion_matrix(y_test, preds)\n",
        "df_cm = pd.DataFrame(cm, index = ratings, columns = ratings)\n",
        "show_conf_matrix(df_cm)"
      ],
      "execution_count": null,
      "outputs": [
        {
          "output_type": "display_data",
          "data": {
            "image/png": "[encoded data removed]",
            "text/plain": [
              "<Figure size 432x288 with 2 Axes>"
            ]
          },
          "metadata": {
            "tags": [],
            "needs_background": "light"
          }
        }
      ]
    },
    {
      "cell_type": "code",
      "metadata": {
        "id": "XEvdz6if9fOC"
      },
      "source": [
        ""
      ],
      "execution_count": null,
      "outputs": []
    }
  ]
}