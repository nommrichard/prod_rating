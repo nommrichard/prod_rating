{
  "nbformat": 4,
  "nbformat_minor": 0,
  "metadata": {
    "accelerator": "GPU",
    "colab": {
      "name": "NLP_project.ipynb",
      "provenance": [],
      "collapsed_sections": [],
      "toc_visible": true
    },
    "kernelspec": {
      "display_name": "Python 3",
      "name": "python3"
    },
    "language_info": {
      "name": "python"
    },
    "widgets": {
      "application/vnd.jupyter.widget-state+json": {
        "5ad000df0774497991349800dc3ad577": {
          "model_module": "@jupyter-widgets/controls",
          "model_name": "HBoxModel",
          "state": {
            "_view_name": "HBoxView",
            "_dom_classes": [],
            "_model_name": "HBoxModel",
            "_view_module": "@jupyter-widgets/controls",
            "_model_module_version": "1.5.0",
            "_view_count": null,
            "_view_module_version": "1.5.0",
            "box_style": "",
            "layout": "IPY_MODEL_b95593d4542248c79cede051e6a9b5ab",
            "_model_module": "@jupyter-widgets/controls",
            "children": [
              "IPY_MODEL_1ce801ae481f4867b243d8f7b2e3ef01",
              "IPY_MODEL_2bae6834acb441c195528ad329411e6f"
            ]
          }
        },
        "b95593d4542248c79cede051e6a9b5ab": {
          "model_module": "@jupyter-widgets/base",
          "model_name": "LayoutModel",
          "state": {
            "_view_name": "LayoutView",
            "grid_template_rows": null,
            "right": null,
            "justify_content": null,
            "_view_module": "@jupyter-widgets/base",
            "overflow": null,
            "_model_module_version": "1.2.0",
            "_view_count": null,
            "flex_flow": null,
            "width": null,
            "min_width": null,
            "border": null,
            "align_items": null,
            "bottom": null,
            "_model_module": "@jupyter-widgets/base",
            "top": null,
            "grid_column": null,
            "overflow_y": null,
            "overflow_x": null,
            "grid_auto_flow": null,
            "grid_area": null,
            "grid_template_columns": null,
            "flex": null,
            "_model_name": "LayoutModel",
            "justify_items": null,
            "grid_row": null,
            "max_height": null,
            "align_content": null,
            "visibility": null,
            "align_self": null,
            "height": null,
            "min_height": null,
            "padding": null,
            "grid_auto_rows": null,
            "grid_gap": null,
            "max_width": null,
            "order": null,
            "_view_module_version": "1.2.0",
            "grid_template_areas": null,
            "object_position": null,
            "object_fit": null,
            "grid_auto_columns": null,
            "margin": null,
            "display": null,
            "left": null
          }
        },
        "1ce801ae481f4867b243d8f7b2e3ef01": {
          "model_module": "@jupyter-widgets/controls",
          "model_name": "FloatProgressModel",
          "state": {
            "_view_name": "ProgressView",
            "style": "IPY_MODEL_821a3f3a139847bca6a0350817ba3a6c",
            "_dom_classes": [],
            "description": "Downloading: 100%",
            "_model_name": "FloatProgressModel",
            "bar_style": "success",
            "max": 231508,
            "_view_module": "@jupyter-widgets/controls",
            "_model_module_version": "1.5.0",
            "value": 231508,
            "_view_count": null,
            "_view_module_version": "1.5.0",
            "orientation": "horizontal",
            "min": 0,
            "description_tooltip": null,
            "_model_module": "@jupyter-widgets/controls",
            "layout": "IPY_MODEL_2ec63ae3921f42ab8fc421fa3a2c0de2"
          }
        },
        "2bae6834acb441c195528ad329411e6f": {
          "model_module": "@jupyter-widgets/controls",
          "model_name": "HTMLModel",
          "state": {
            "_view_name": "HTMLView",
            "style": "IPY_MODEL_efcbf869b95a414bad6907ada06146be",
            "_dom_classes": [],
            "description": "",
            "_model_name": "HTMLModel",
            "placeholder": "​",
            "_view_module": "@jupyter-widgets/controls",
            "_model_module_version": "1.5.0",
            "value": " 232k/232k [00:05&lt;00:00, 43.5kB/s]",
            "_view_count": null,
            "_view_module_version": "1.5.0",
            "description_tooltip": null,
            "_model_module": "@jupyter-widgets/controls",
            "layout": "IPY_MODEL_d60c863e88f64f6291edfa2586b82f76"
          }
        },
        "821a3f3a139847bca6a0350817ba3a6c": {
          "model_module": "@jupyter-widgets/controls",
          "model_name": "ProgressStyleModel",
          "state": {
            "_view_name": "StyleView",
            "_model_name": "ProgressStyleModel",
            "description_width": "initial",
            "_view_module": "@jupyter-widgets/base",
            "_model_module_version": "1.5.0",
            "_view_count": null,
            "_view_module_version": "1.2.0",
            "bar_color": null,
            "_model_module": "@jupyter-widgets/controls"
          }
        },
        "2ec63ae3921f42ab8fc421fa3a2c0de2": {
          "model_module": "@jupyter-widgets/base",
          "model_name": "LayoutModel",
          "state": {
            "_view_name": "LayoutView",
            "grid_template_rows": null,
            "right": null,
            "justify_content": null,
            "_view_module": "@jupyter-widgets/base",
            "overflow": null,
            "_model_module_version": "1.2.0",
            "_view_count": null,
            "flex_flow": null,
            "width": null,
            "min_width": null,
            "border": null,
            "align_items": null,
            "bottom": null,
            "_model_module": "@jupyter-widgets/base",
            "top": null,
            "grid_column": null,
            "overflow_y": null,
            "overflow_x": null,
            "grid_auto_flow": null,
            "grid_area": null,
            "grid_template_columns": null,
            "flex": null,
            "_model_name": "LayoutModel",
            "justify_items": null,
            "grid_row": null,
            "max_height": null,
            "align_content": null,
            "visibility": null,
            "align_self": null,
            "height": null,
            "min_height": null,
            "padding": null,
            "grid_auto_rows": null,
            "grid_gap": null,
            "max_width": null,
            "order": null,
            "_view_module_version": "1.2.0",
            "grid_template_areas": null,
            "object_position": null,
            "object_fit": null,
            "grid_auto_columns": null,
            "margin": null,
            "display": null,
            "left": null
          }
        },
        "efcbf869b95a414bad6907ada06146be": {
          "model_module": "@jupyter-widgets/controls",
          "model_name": "DescriptionStyleModel",
          "state": {
            "_view_name": "StyleView",
            "_model_name": "DescriptionStyleModel",
            "description_width": "",
            "_view_module": "@jupyter-widgets/base",
            "_model_module_version": "1.5.0",
            "_view_count": null,
            "_view_module_version": "1.2.0",
            "_model_module": "@jupyter-widgets/controls"
          }
        },
        "d60c863e88f64f6291edfa2586b82f76": {
          "model_module": "@jupyter-widgets/base",
          "model_name": "LayoutModel",
          "state": {
            "_view_name": "LayoutView",
            "grid_template_rows": null,
            "right": null,
            "justify_content": null,
            "_view_module": "@jupyter-widgets/base",
            "overflow": null,
            "_model_module_version": "1.2.0",
            "_view_count": null,
            "flex_flow": null,
            "width": null,
            "min_width": null,
            "border": null,
            "align_items": null,
            "bottom": null,
            "_model_module": "@jupyter-widgets/base",
            "top": null,
            "grid_column": null,
            "overflow_y": null,
            "overflow_x": null,
            "grid_auto_flow": null,
            "grid_area": null,
            "grid_template_columns": null,
            "flex": null,
            "_model_name": "LayoutModel",
            "justify_items": null,
            "grid_row": null,
            "max_height": null,
            "align_content": null,
            "visibility": null,
            "align_self": null,
            "height": null,
            "min_height": null,
            "padding": null,
            "grid_auto_rows": null,
            "grid_gap": null,
            "max_width": null,
            "order": null,
            "_view_module_version": "1.2.0",
            "grid_template_areas": null,
            "object_position": null,
            "object_fit": null,
            "grid_auto_columns": null,
            "margin": null,
            "display": null,
            "left": null
          }
        },
        "a27485beadc041d7a6bfd254a79cc76e": {
          "model_module": "@jupyter-widgets/controls",
          "model_name": "HBoxModel",
          "state": {
            "_view_name": "HBoxView",
            "_dom_classes": [],
            "_model_name": "HBoxModel",
            "_view_module": "@jupyter-widgets/controls",
            "_model_module_version": "1.5.0",
            "_view_count": null,
            "_view_module_version": "1.5.0",
            "box_style": "",
            "layout": "IPY_MODEL_cf2e290868e240049a99571af734288d",
            "_model_module": "@jupyter-widgets/controls",
            "children": [
              "IPY_MODEL_dee9f12276ea4097af0f34e24ae9a4c6",
              "IPY_MODEL_2e4e20bb8f7b4c2abd1b0eedb3966893"
            ]
          }
        },
        "cf2e290868e240049a99571af734288d": {
          "model_module": "@jupyter-widgets/base",
          "model_name": "LayoutModel",
          "state": {
            "_view_name": "LayoutView",
            "grid_template_rows": null,
            "right": null,
            "justify_content": null,
            "_view_module": "@jupyter-widgets/base",
            "overflow": null,
            "_model_module_version": "1.2.0",
            "_view_count": null,
            "flex_flow": null,
            "width": null,
            "min_width": null,
            "border": null,
            "align_items": null,
            "bottom": null,
            "_model_module": "@jupyter-widgets/base",
            "top": null,
            "grid_column": null,
            "overflow_y": null,
            "overflow_x": null,
            "grid_auto_flow": null,
            "grid_area": null,
            "grid_template_columns": null,
            "flex": null,
            "_model_name": "LayoutModel",
            "justify_items": null,
            "grid_row": null,
            "max_height": null,
            "align_content": null,
            "visibility": null,
            "align_self": null,
            "height": null,
            "min_height": null,
            "padding": null,
            "grid_auto_rows": null,
            "grid_gap": null,
            "max_width": null,
            "order": null,
            "_view_module_version": "1.2.0",
            "grid_template_areas": null,
            "object_position": null,
            "object_fit": null,
            "grid_auto_columns": null,
            "margin": null,
            "display": null,
            "left": null
          }
        },
        "dee9f12276ea4097af0f34e24ae9a4c6": {
          "model_module": "@jupyter-widgets/controls",
          "model_name": "FloatProgressModel",
          "state": {
            "_view_name": "ProgressView",
            "style": "IPY_MODEL_7b1b664da49647d6834c1c33d6274cf9",
            "_dom_classes": [],
            "description": "Downloading: 100%",
            "_model_name": "FloatProgressModel",
            "bar_style": "success",
            "max": 28,
            "_view_module": "@jupyter-widgets/controls",
            "_model_module_version": "1.5.0",
            "value": 28,
            "_view_count": null,
            "_view_module_version": "1.5.0",
            "orientation": "horizontal",
            "min": 0,
            "description_tooltip": null,
            "_model_module": "@jupyter-widgets/controls",
            "layout": "IPY_MODEL_060aeee9b0c9473b80c5c4f5b8b13cfc"
          }
        },
        "2e4e20bb8f7b4c2abd1b0eedb3966893": {
          "model_module": "@jupyter-widgets/controls",
          "model_name": "HTMLModel",
          "state": {
            "_view_name": "HTMLView",
            "style": "IPY_MODEL_07f026bf6903429cbc58026c7d15ace1",
            "_dom_classes": [],
            "description": "",
            "_model_name": "HTMLModel",
            "placeholder": "​",
            "_view_module": "@jupyter-widgets/controls",
            "_model_module_version": "1.5.0",
            "value": " 28.0/28.0 [00:02&lt;00:00, 13.2B/s]",
            "_view_count": null,
            "_view_module_version": "1.5.0",
            "description_tooltip": null,
            "_model_module": "@jupyter-widgets/controls",
            "layout": "IPY_MODEL_dfe2b64db20748d7843bd10adb242b8e"
          }
        },
        "7b1b664da49647d6834c1c33d6274cf9": {
          "model_module": "@jupyter-widgets/controls",
          "model_name": "ProgressStyleModel",
          "state": {
            "_view_name": "StyleView",
            "_model_name": "ProgressStyleModel",
            "description_width": "initial",
            "_view_module": "@jupyter-widgets/base",
            "_model_module_version": "1.5.0",
            "_view_count": null,
            "_view_module_version": "1.2.0",
            "bar_color": null,
            "_model_module": "@jupyter-widgets/controls"
          }
        },
        "060aeee9b0c9473b80c5c4f5b8b13cfc": {
          "model_module": "@jupyter-widgets/base",
          "model_name": "LayoutModel",
          "state": {
            "_view_name": "LayoutView",
            "grid_template_rows": null,
            "right": null,
            "justify_content": null,
            "_view_module": "@jupyter-widgets/base",
            "overflow": null,
            "_model_module_version": "1.2.0",
            "_view_count": null,
            "flex_flow": null,
            "width": null,
            "min_width": null,
            "border": null,
            "align_items": null,
            "bottom": null,
            "_model_module": "@jupyter-widgets/base",
            "top": null,
            "grid_column": null,
            "overflow_y": null,
            "overflow_x": null,
            "grid_auto_flow": null,
            "grid_area": null,
            "grid_template_columns": null,
            "flex": null,
            "_model_name": "LayoutModel",
            "justify_items": null,
            "grid_row": null,
            "max_height": null,
            "align_content": null,
            "visibility": null,
            "align_self": null,
            "height": null,
            "min_height": null,
            "padding": null,
            "grid_auto_rows": null,
            "grid_gap": null,
            "max_width": null,
            "order": null,
            "_view_module_version": "1.2.0",
            "grid_template_areas": null,
            "object_position": null,
            "object_fit": null,
            "grid_auto_columns": null,
            "margin": null,
            "display": null,
            "left": null
          }
        },
        "07f026bf6903429cbc58026c7d15ace1": {
          "model_module": "@jupyter-widgets/controls",
          "model_name": "DescriptionStyleModel",
          "state": {
            "_view_name": "StyleView",
            "_model_name": "DescriptionStyleModel",
            "description_width": "",
            "_view_module": "@jupyter-widgets/base",
            "_model_module_version": "1.5.0",
            "_view_count": null,
            "_view_module_version": "1.2.0",
            "_model_module": "@jupyter-widgets/controls"
          }
        },
        "dfe2b64db20748d7843bd10adb242b8e": {
          "model_module": "@jupyter-widgets/base",
          "model_name": "LayoutModel",
          "state": {
            "_view_name": "LayoutView",
            "grid_template_rows": null,
            "right": null,
            "justify_content": null,
            "_view_module": "@jupyter-widgets/base",
            "overflow": null,
            "_model_module_version": "1.2.0",
            "_view_count": null,
            "flex_flow": null,
            "width": null,
            "min_width": null,
            "border": null,
            "align_items": null,
            "bottom": null,
            "_model_module": "@jupyter-widgets/base",
            "top": null,
            "grid_column": null,
            "overflow_y": null,
            "overflow_x": null,
            "grid_auto_flow": null,
            "grid_area": null,
            "grid_template_columns": null,
            "flex": null,
            "_model_name": "LayoutModel",
            "justify_items": null,
            "grid_row": null,
            "max_height": null,
            "align_content": null,
            "visibility": null,
            "align_self": null,
            "height": null,
            "min_height": null,
            "padding": null,
            "grid_auto_rows": null,
            "grid_gap": null,
            "max_width": null,
            "order": null,
            "_view_module_version": "1.2.0",
            "grid_template_areas": null,
            "object_position": null,
            "object_fit": null,
            "grid_auto_columns": null,
            "margin": null,
            "display": null,
            "left": null
          }
        },
        "d1f10c60464440388a8d28bad836f5ee": {
          "model_module": "@jupyter-widgets/controls",
          "model_name": "HBoxModel",
          "state": {
            "_view_name": "HBoxView",
            "_dom_classes": [],
            "_model_name": "HBoxModel",
            "_view_module": "@jupyter-widgets/controls",
            "_model_module_version": "1.5.0",
            "_view_count": null,
            "_view_module_version": "1.5.0",
            "box_style": "",
            "layout": "IPY_MODEL_949c09b5667240eeb2e75c0f8370b14e",
            "_model_module": "@jupyter-widgets/controls",
            "children": [
              "IPY_MODEL_538ada95b9e448ca97a6137ba1506174",
              "IPY_MODEL_3a594243f6ee4368bc9ebc04cb0113fd"
            ]
          }
        },
        "949c09b5667240eeb2e75c0f8370b14e": {
          "model_module": "@jupyter-widgets/base",
          "model_name": "LayoutModel",
          "state": {
            "_view_name": "LayoutView",
            "grid_template_rows": null,
            "right": null,
            "justify_content": null,
            "_view_module": "@jupyter-widgets/base",
            "overflow": null,
            "_model_module_version": "1.2.0",
            "_view_count": null,
            "flex_flow": null,
            "width": null,
            "min_width": null,
            "border": null,
            "align_items": null,
            "bottom": null,
            "_model_module": "@jupyter-widgets/base",
            "top": null,
            "grid_column": null,
            "overflow_y": null,
            "overflow_x": null,
            "grid_auto_flow": null,
            "grid_area": null,
            "grid_template_columns": null,
            "flex": null,
            "_model_name": "LayoutModel",
            "justify_items": null,
            "grid_row": null,
            "max_height": null,
            "align_content": null,
            "visibility": null,
            "align_self": null,
            "height": null,
            "min_height": null,
            "padding": null,
            "grid_auto_rows": null,
            "grid_gap": null,
            "max_width": null,
            "order": null,
            "_view_module_version": "1.2.0",
            "grid_template_areas": null,
            "object_position": null,
            "object_fit": null,
            "grid_auto_columns": null,
            "margin": null,
            "display": null,
            "left": null
          }
        },
        "538ada95b9e448ca97a6137ba1506174": {
          "model_module": "@jupyter-widgets/controls",
          "model_name": "FloatProgressModel",
          "state": {
            "_view_name": "ProgressView",
            "style": "IPY_MODEL_c14eac8a1c0e48139d777a4d1305449d",
            "_dom_classes": [],
            "description": "Downloading: 100%",
            "_model_name": "FloatProgressModel",
            "bar_style": "success",
            "max": 466062,
            "_view_module": "@jupyter-widgets/controls",
            "_model_module_version": "1.5.0",
            "value": 466062,
            "_view_count": null,
            "_view_module_version": "1.5.0",
            "orientation": "horizontal",
            "min": 0,
            "description_tooltip": null,
            "_model_module": "@jupyter-widgets/controls",
            "layout": "IPY_MODEL_6da478745a4344e48d4a0af86bdab034"
          }
        },
        "3a594243f6ee4368bc9ebc04cb0113fd": {
          "model_module": "@jupyter-widgets/controls",
          "model_name": "HTMLModel",
          "state": {
            "_view_name": "HTMLView",
            "style": "IPY_MODEL_07f7f88777ab42f98cca89941a2d214d",
            "_dom_classes": [],
            "description": "",
            "_model_name": "HTMLModel",
            "placeholder": "​",
            "_view_module": "@jupyter-widgets/controls",
            "_model_module_version": "1.5.0",
            "value": " 466k/466k [00:00&lt;00:00, 492kB/s]",
            "_view_count": null,
            "_view_module_version": "1.5.0",
            "description_tooltip": null,
            "_model_module": "@jupyter-widgets/controls",
            "layout": "IPY_MODEL_edf7e6a87ded4f598c875652db168767"
          }
        },
        "c14eac8a1c0e48139d777a4d1305449d": {
          "model_module": "@jupyter-widgets/controls",
          "model_name": "ProgressStyleModel",
          "state": {
            "_view_name": "StyleView",
            "_model_name": "ProgressStyleModel",
            "description_width": "initial",
            "_view_module": "@jupyter-widgets/base",
            "_model_module_version": "1.5.0",
            "_view_count": null,
            "_view_module_version": "1.2.0",
            "bar_color": null,
            "_model_module": "@jupyter-widgets/controls"
          }
        },
        "6da478745a4344e48d4a0af86bdab034": {
          "model_module": "@jupyter-widgets/base",
          "model_name": "LayoutModel",
          "state": {
            "_view_name": "LayoutView",
            "grid_template_rows": null,
            "right": null,
            "justify_content": null,
            "_view_module": "@jupyter-widgets/base",
            "overflow": null,
            "_model_module_version": "1.2.0",
            "_view_count": null,
            "flex_flow": null,
            "width": null,
            "min_width": null,
            "border": null,
            "align_items": null,
            "bottom": null,
            "_model_module": "@jupyter-widgets/base",
            "top": null,
            "grid_column": null,
            "overflow_y": null,
            "overflow_x": null,
            "grid_auto_flow": null,
            "grid_area": null,
            "grid_template_columns": null,
            "flex": null,
            "_model_name": "LayoutModel",
            "justify_items": null,
            "grid_row": null,
            "max_height": null,
            "align_content": null,
            "visibility": null,
            "align_self": null,
            "height": null,
            "min_height": null,
            "padding": null,
            "grid_auto_rows": null,
            "grid_gap": null,
            "max_width": null,
            "order": null,
            "_view_module_version": "1.2.0",
            "grid_template_areas": null,
            "object_position": null,
            "object_fit": null,
            "grid_auto_columns": null,
            "margin": null,
            "display": null,
            "left": null
          }
        },
        "07f7f88777ab42f98cca89941a2d214d": {
          "model_module": "@jupyter-widgets/controls",
          "model_name": "DescriptionStyleModel",
          "state": {
            "_view_name": "StyleView",
            "_model_name": "DescriptionStyleModel",
            "description_width": "",
            "_view_module": "@jupyter-widgets/base",
            "_model_module_version": "1.5.0",
            "_view_count": null,
            "_view_module_version": "1.2.0",
            "_model_module": "@jupyter-widgets/controls"
          }
        },
        "edf7e6a87ded4f598c875652db168767": {
          "model_module": "@jupyter-widgets/base",
          "model_name": "LayoutModel",
          "state": {
            "_view_name": "LayoutView",
            "grid_template_rows": null,
            "right": null,
            "justify_content": null,
            "_view_module": "@jupyter-widgets/base",
            "overflow": null,
            "_model_module_version": "1.2.0",
            "_view_count": null,
            "flex_flow": null,
            "width": null,
            "min_width": null,
            "border": null,
            "align_items": null,
            "bottom": null,
            "_model_module": "@jupyter-widgets/base",
            "top": null,
            "grid_column": null,
            "overflow_y": null,
            "overflow_x": null,
            "grid_auto_flow": null,
            "grid_area": null,
            "grid_template_columns": null,
            "flex": null,
            "_model_name": "LayoutModel",
            "justify_items": null,
            "grid_row": null,
            "max_height": null,
            "align_content": null,
            "visibility": null,
            "align_self": null,
            "height": null,
            "min_height": null,
            "padding": null,
            "grid_auto_rows": null,
            "grid_gap": null,
            "max_width": null,
            "order": null,
            "_view_module_version": "1.2.0",
            "grid_template_areas": null,
            "object_position": null,
            "object_fit": null,
            "grid_auto_columns": null,
            "margin": null,
            "display": null,
            "left": null
          }
        }
      }
    }
  },
  "cells": [
    {
      "cell_type": "markdown",
      "metadata": {
        "id": "lx3kNA5QObSX"
      },
      "source": [
        "# Predicting product rating based on review text \n",
        "\n",
        "## Project in LTAT.01.001 Natural language processing\n",
        "\n",
        "#### Team members: Karl Jaagup Kask, Ludvig Leis, Richard Nõmm"
      ]
    },
    {
      "cell_type": "code",
      "metadata": {
        "colab": {
          "base_uri": "https://localhost:8080/"
        },
        "id": "OR2En_bNOKIh",
        "outputId": "f4da3665-6c45-463d-9eab-f2ba2328caae"
      },
      "source": [
        "import pandas as pd\n",
        "import numpy as np\n",
        "import matplotlib.pyplot as plt\n",
        "import seaborn as sns\n",
        "import re \n",
        "import nltk\n",
        "from nltk.corpus import stopwords\n",
        "from nltk.stem import WordNetLemmatizer\n",
        "from nltk.tokenize import word_tokenize\n",
        "\n",
        "\n",
        "!python3 -m nltk.downloader stopwords\n",
        "!python3 -m nltk.downloader punkt"
      ],
      "execution_count": null,
      "outputs": [
        {
          "output_type": "stream",
          "text": [
            "/usr/lib/python3.7/runpy.py:125: RuntimeWarning: 'nltk.downloader' found in sys.modules after import of package 'nltk', but prior to execution of 'nltk.downloader'; this may result in unpredictable behaviour\n",
            "  warn(RuntimeWarning(msg))\n",
            "[nltk_data] Downloading package stopwords to /root/nltk_data...\n",
            "[nltk_data]   Unzipping corpora/stopwords.zip.\n",
            "/usr/lib/python3.7/runpy.py:125: RuntimeWarning: 'nltk.downloader' found in sys.modules after import of package 'nltk', but prior to execution of 'nltk.downloader'; this may result in unpredictable behaviour\n",
            "  warn(RuntimeWarning(msg))\n",
            "[nltk_data] Downloading package punkt to /root/nltk_data...\n",
            "[nltk_data]   Unzipping tokenizers/punkt.zip.\n"
          ],
          "name": "stdout"
        }
      ]
    },
    {
      "cell_type": "code",
      "metadata": {
        "id": "hjSLi-TpZcXb"
      },
      "source": [
        "RANDOM_SEED = 100"
      ],
      "execution_count": null,
      "outputs": []
    },
    {
      "cell_type": "markdown",
      "metadata": {
        "id": "7z9_NwhNOpLR"
      },
      "source": [
        "The data we are using: https://www.kaggle.com/datafiniti/consumer-reviews-of-amazon-products"
      ]
    },
    {
      "cell_type": "markdown",
      "metadata": {
        "id": "jwCm46NbOTIg"
      },
      "source": [
        "## Data preprocessing (data file needs to be imported)"
      ]
    },
    {
      "cell_type": "code",
      "metadata": {
        "colab": {
          "base_uri": "https://localhost:8080/"
        },
        "id": "cdUOTKUiOOKR",
        "outputId": "21d6eacc-b89f-4990-8b37-7d7149d7a7c0"
      },
      "source": [
        "df = pd.read_csv('amazon_review_dataset.csv') #renamed"
      ],
      "execution_count": null,
      "outputs": [
        {
          "output_type": "stream",
          "text": [
            "/usr/local/lib/python3.7/dist-packages/IPython/core/interactiveshell.py:2718: DtypeWarning: Columns (1,10) have mixed types.Specify dtype option on import or set low_memory=False.\n",
            "  interactivity=interactivity, compiler=compiler, result=result)\n"
          ],
          "name": "stderr"
        }
      ]
    },
    {
      "cell_type": "code",
      "metadata": {
        "colab": {
          "base_uri": "https://localhost:8080/",
          "height": 53
        },
        "id": "bHrZGSNuOPpA",
        "outputId": "47f5a188-b7c5-4836-b1b2-0ee7b7e55bca"
      },
      "source": [
        "df = df[df['reviews.rating'].notnull() & df['reviews.text'].notnull()]\n",
        "df= df[['reviews.rating','reviews.text']]\n",
        "\n",
        "df.rename(columns = {'reviews.rating':'rating', 'reviews.text':'text'}, inplace = True)\n",
        "df['text'][0]"
      ],
      "execution_count": null,
      "outputs": [
        {
          "output_type": "execute_result",
          "data": {
            "application/vnd.google.colaboratory.intrinsic+json": {
              "type": "string"
            },
            "text/plain": [
              "'This product so far has not disappointed. My children love to use it and I like the ability to monitor control what content they see with ease.'"
            ]
          },
          "metadata": {
            "tags": []
          },
          "execution_count": 4
        }
      ]
    },
    {
      "cell_type": "code",
      "metadata": {
        "colab": {
          "base_uri": "https://localhost:8080/",
          "height": 35
        },
        "id": "RYhoqoOZOSWw",
        "outputId": "405af500-8327-4ccc-b22f-1de3b87fe785"
      },
      "source": [
        "stops = stopwords.words('english')\n",
        "\n",
        "remove_punc = re.compile('[^a-z]+')\n",
        "def clean_text(sent):\n",
        "    sent = str(sent).lower()\n",
        "    sent = remove_punc.sub(' ', sent).strip()\n",
        "    filtered = [word for word in sent.split() if word not in stops]\n",
        "    sentence = \" \".join(filtered) #just joined -> laused\n",
        "    #sentence = nltk.word_tokenize(sentence) #tokenized -> listid\n",
        "    return sentence\n",
        "\n",
        "clean_text(df['text'][0])\n"
      ],
      "execution_count": null,
      "outputs": [
        {
          "output_type": "execute_result",
          "data": {
            "application/vnd.google.colaboratory.intrinsic+json": {
              "type": "string"
            },
            "text/plain": [
              "'product far disappointed children love use like ability monitor control content see ease'"
            ]
          },
          "metadata": {
            "tags": []
          },
          "execution_count": 5
        }
      ]
    },
    {
      "cell_type": "code",
      "metadata": {
        "id": "UPb6ydqJQAQR"
      },
      "source": [
        "reviews = [clean_text(sent) for sent in df['text']]"
      ],
      "execution_count": null,
      "outputs": []
    },
    {
      "cell_type": "code",
      "metadata": {
        "colab": {
          "base_uri": "https://localhost:8080/"
        },
        "id": "oT-RIxScS4fy",
        "outputId": "56ef3e6d-2c4c-43bf-9deb-fdf95ae64645"
      },
      "source": [
        "df['text'] = reviews\n",
        "df['text']"
      ],
      "execution_count": null,
      "outputs": [
        {
          "output_type": "execute_result",
          "data": {
            "text/plain": [
              "0        product far disappointed children love use lik...\n",
              "1        great beginner experienced person bought gift ...\n",
              "2        inexpensive tablet use learn step nabi thrille...\n",
              "3        fire hd two weeks love tablet great value prim...\n",
              "4        bought grand daughter comes visit set user ent...\n",
              "                               ...                        \n",
              "34655    appreciably faster higher amp charger used kin...\n",
              "34656    amazon include charger kindle fact charging us...\n",
              "34657    love kindle fire really disappointed kindle po...\n",
              "34658    surprised find come type charging cords purcha...\n",
              "34659    spite fact nothing good things say amazon anth...\n",
              "Name: text, Length: 34626, dtype: object"
            ]
          },
          "metadata": {
            "tags": []
          },
          "execution_count": 7
        }
      ]
    },
    {
      "cell_type": "code",
      "metadata": {
        "id": "Abbgg-fwS-oK",
        "colab": {
          "base_uri": "https://localhost:8080/",
          "height": 405
        },
        "outputId": "160508ab-c340-4517-d369-320c05e11dd4"
      },
      "source": [
        "plt.figure(figsize=(10,5))\n",
        "sns.countplot(df['rating'], color= \"blue\")\n",
        "plt.title('Ratings distribution')\n",
        "plt.show()"
      ],
      "execution_count": null,
      "outputs": [
        {
          "output_type": "stream",
          "text": [
            "/usr/local/lib/python3.7/dist-packages/seaborn/_decorators.py:43: FutureWarning: Pass the following variable as a keyword arg: x. From version 0.12, the only valid positional argument will be `data`, and passing other arguments without an explicit keyword will result in an error or misinterpretation.\n",
            "  FutureWarning\n"
          ],
          "name": "stderr"
        },
        {
          "output_type": "display_data",
          "data": {
            "image/png": "[encoded data removed]",
            "text/plain": [
              "<Figure size 720x360 with 1 Axes>"
            ]
          },
          "metadata": {
            "tags": [],
            "needs_background": "light"
          }
        }
      ]
    },
    {
      "cell_type": "markdown",
      "metadata": {
        "id": "vBEl_haQVQ3W"
      },
      "source": [
        "## I Naive-Bayes approach"
      ]
    },
    {
      "cell_type": "markdown",
      "metadata": {
        "id": "1fjUp1VmWF5b"
      },
      "source": [
        "## BERT approach"
      ]
    },
    {
      "cell_type": "markdown",
      "metadata": {
        "id": "1SSN7DuQtHU1"
      },
      "source": [
        "The following code is based on this notebook: https://colab.research.google.com/drive/1f32gj5IYIyFipoINiC8P3DvKat-WWLUK \n",
        "\n"
      ]
    },
    {
      "cell_type": "code",
      "metadata": {
        "colab": {
          "base_uri": "https://localhost:8080/",
          "height": 792,
          "referenced_widgets": [
            "5ad000df0774497991349800dc3ad577",
            "b95593d4542248c79cede051e6a9b5ab",
            "1ce801ae481f4867b243d8f7b2e3ef01",
            "2bae6834acb441c195528ad329411e6f",
            "821a3f3a139847bca6a0350817ba3a6c",
            "2ec63ae3921f42ab8fc421fa3a2c0de2",
            "efcbf869b95a414bad6907ada06146be",
            "d60c863e88f64f6291edfa2586b82f76",
            "a27485beadc041d7a6bfd254a79cc76e",
            "cf2e290868e240049a99571af734288d",
            "dee9f12276ea4097af0f34e24ae9a4c6",
            "2e4e20bb8f7b4c2abd1b0eedb3966893",
            "7b1b664da49647d6834c1c33d6274cf9",
            "060aeee9b0c9473b80c5c4f5b8b13cfc",
            "07f026bf6903429cbc58026c7d15ace1",
            "dfe2b64db20748d7843bd10adb242b8e",
            "d1f10c60464440388a8d28bad836f5ee",
            "949c09b5667240eeb2e75c0f8370b14e",
            "538ada95b9e448ca97a6137ba1506174",
            "3a594243f6ee4368bc9ebc04cb0113fd",
            "c14eac8a1c0e48139d777a4d1305449d",
            "6da478745a4344e48d4a0af86bdab034",
            "07f7f88777ab42f98cca89941a2d214d",
            "edf7e6a87ded4f598c875652db168767"
          ]
        },
        "id": "EgLPKFg1ko0S",
        "outputId": "d525987c-8950-4df2-8579-01e8cec6ce5a"
      },
      "source": [
        "!pip install transformers\n",
        "!pip install conllu\n",
        "\n",
        "import torch\n",
        "from torch.utils.data import Dataset, DataLoader\n",
        "from torch.utils.data.sampler import SubsetRandomSampler\n",
        "import torch.nn as nn\n",
        "import torch.nn.functional as F\n",
        "import torch.optim as optim\n",
        "\n",
        "from pathlib import Path\n",
        "import time\n",
        "import random\n",
        "from collections import Counter\n",
        "from typing import List, Dict\n",
        "\n",
        "# Check if we are running on a CPU or GPU, should be GPU\n",
        "device = torch.device('cuda' if torch.cuda.is_available() else 'cpu')\n",
        "\n",
        "from transformers import AutoModelForTokenClassification, AdamW, AutoConfig\n",
        "from transformers import AutoTokenizer, PreTrainedTokenizer\n",
        "from transformers import get_linear_schedule_with_warmup\n",
        "from transformers import BertModel, BertTokenizer, AdamW, get_linear_schedule_with_warmup\n",
        "from conllu import parse\n",
        "\n",
        "# Load the BERT tokenizer\n",
        "tokenizer = BertTokenizer.from_pretrained('bert-base-uncased', do_lower_case=True)\n",
        "print(device)"
      ],
      "execution_count": null,
      "outputs": [
        {
          "output_type": "stream",
          "text": [
            "Collecting transformers\n",
            "\u001b[?25l  Downloading https://files.pythonhosted.org/packages/b0/9e/5b80becd952d5f7250eaf8fc64b957077b12ccfe73e9c03d37146ab29712/transformers-4.6.0-py3-none-any.whl (2.3MB)\n",
            "\u001b[K     |████████████████████████████████| 2.3MB 4.2MB/s \n",
            "\u001b[?25hRequirement already satisfied: tqdm>=4.27 in /usr/local/lib/python3.7/dist-packages (from transformers) (4.41.1)\n",
            "Requirement already satisfied: packaging in /usr/local/lib/python3.7/dist-packages (from transformers) (20.9)\n",
            "Requirement already satisfied: regex!=2019.12.17 in /usr/local/lib/python3.7/dist-packages (from transformers) (2019.12.20)\n",
            "Requirement already satisfied: importlib-metadata; python_version < \"3.8\" in /usr/local/lib/python3.7/dist-packages (from transformers) (4.0.1)\n",
            "Collecting sacremoses\n",
            "\u001b[?25l  Downloading https://files.pythonhosted.org/packages/75/ee/67241dc87f266093c533a2d4d3d69438e57d7a90abb216fa076e7d475d4a/sacremoses-0.0.45-py3-none-any.whl (895kB)\n",
            "\u001b[K     |████████████████████████████████| 901kB 26.9MB/s \n",
            "\u001b[?25hRequirement already satisfied: requests in /usr/local/lib/python3.7/dist-packages (from transformers) (2.23.0)\n",
            "Collecting tokenizers<0.11,>=0.10.1\n",
            "\u001b[?25l  Downloading https://files.pythonhosted.org/packages/ae/04/5b870f26a858552025a62f1649c20d29d2672c02ff3c3fb4c688ca46467a/tokenizers-0.10.2-cp37-cp37m-manylinux2010_x86_64.whl (3.3MB)\n",
            "\u001b[K     |████████████████████████████████| 3.3MB 38.0MB/s \n",
            "\u001b[?25hCollecting huggingface-hub==0.0.8\n",
            "  Downloading https://files.pythonhosted.org/packages/a1/88/7b1e45720ecf59c6c6737ff332f41c955963090a18e72acbcbeac6b25e86/huggingface_hub-0.0.8-py3-none-any.whl\n",
            "Requirement already satisfied: filelock in /usr/local/lib/python3.7/dist-packages (from transformers) (3.0.12)\n",
            "Requirement already satisfied: numpy>=1.17 in /usr/local/lib/python3.7/dist-packages (from transformers) (1.19.5)\n",
            "Requirement already satisfied: pyparsing>=2.0.2 in /usr/local/lib/python3.7/dist-packages (from packaging->transformers) (2.4.7)\n",
            "Requirement already satisfied: typing-extensions>=3.6.4; python_version < \"3.8\" in /usr/local/lib/python3.7/dist-packages (from importlib-metadata; python_version < \"3.8\"->transformers) (3.7.4.3)\n",
            "Requirement already satisfied: zipp>=0.5 in /usr/local/lib/python3.7/dist-packages (from importlib-metadata; python_version < \"3.8\"->transformers) (3.4.1)\n",
            "Requirement already satisfied: joblib in /usr/local/lib/python3.7/dist-packages (from sacremoses->transformers) (1.0.1)\n",
            "Requirement already satisfied: click in /usr/local/lib/python3.7/dist-packages (from sacremoses->transformers) (8.0.0)\n",
            "Requirement already satisfied: six in /usr/local/lib/python3.7/dist-packages (from sacremoses->transformers) (1.15.0)\n",
            "Requirement already satisfied: idna<3,>=2.5 in /usr/local/lib/python3.7/dist-packages (from requests->transformers) (2.10)\n",
            "Requirement already satisfied: chardet<4,>=3.0.2 in /usr/local/lib/python3.7/dist-packages (from requests->transformers) (3.0.4)\n",
            "Requirement already satisfied: urllib3!=1.25.0,!=1.25.1,<1.26,>=1.21.1 in /usr/local/lib/python3.7/dist-packages (from requests->transformers) (1.24.3)\n",
            "Requirement already satisfied: certifi>=2017.4.17 in /usr/local/lib/python3.7/dist-packages (from requests->transformers) (2020.12.5)\n",
            "Installing collected packages: sacremoses, tokenizers, huggingface-hub, transformers\n",
            "Successfully installed huggingface-hub-0.0.8 sacremoses-0.0.45 tokenizers-0.10.2 transformers-4.6.0\n",
            "Collecting conllu\n",
            "  Downloading https://files.pythonhosted.org/packages/ae/be/be6959c3ff2dbfdd87de4be0ccdff577835b5d08b1d25bf7fd4aaf0d7add/conllu-4.4-py2.py3-none-any.whl\n",
            "Installing collected packages: conllu\n",
            "Successfully installed conllu-4.4\n"
          ],
          "name": "stdout"
        },
        {
          "output_type": "display_data",
          "data": {
            "application/vnd.jupyter.widget-view+json": {
              "model_id": "5ad000df0774497991349800dc3ad577",
              "version_minor": 0,
              "version_major": 2
            },
            "text/plain": [
              "HBox(children=(FloatProgress(value=0.0, description='Downloading', max=231508.0, style=ProgressStyle(descripti…"
            ]
          },
          "metadata": {
            "tags": []
          }
        },
        {
          "output_type": "stream",
          "text": [
            "\n"
          ],
          "name": "stdout"
        },
        {
          "output_type": "display_data",
          "data": {
            "application/vnd.jupyter.widget-view+json": {
              "model_id": "a27485beadc041d7a6bfd254a79cc76e",
              "version_minor": 0,
              "version_major": 2
            },
            "text/plain": [
              "HBox(children=(FloatProgress(value=0.0, description='Downloading', max=28.0, style=ProgressStyle(description_w…"
            ]
          },
          "metadata": {
            "tags": []
          }
        },
        {
          "output_type": "stream",
          "text": [
            "\n"
          ],
          "name": "stdout"
        },
        {
          "output_type": "display_data",
          "data": {
            "application/vnd.jupyter.widget-view+json": {
              "model_id": "d1f10c60464440388a8d28bad836f5ee",
              "version_minor": 0,
              "version_major": 2
            },
            "text/plain": [
              "HBox(children=(FloatProgress(value=0.0, description='Downloading', max=466062.0, style=ProgressStyle(descripti…"
            ]
          },
          "metadata": {
            "tags": []
          }
        },
        {
          "output_type": "stream",
          "text": [
            "\n",
            "cuda\n"
          ],
          "name": "stdout"
        }
      ]
    },
    {
      "cell_type": "code",
      "metadata": {
        "id": "5ql6PKR5UdUv"
      },
      "source": [
        "# Function for tokenizing texts\n",
        "def preprocessing_for_bert(data):\n",
        "    \"\"\"Perform required preprocessing steps for pretrained BERT.\n",
        "    @param    data (np.array): Array of texts to be processed.\n",
        "    @return   input_ids (torch.Tensor): Tensor of token ids to be fed to a model.\n",
        "    @return   attention_masks (torch.Tensor): Tensor of indices specifying which\n",
        "                  tokens should be attended to by the model.\n",
        "    \"\"\"\n",
        "    # Create empty lists to store outputs\n",
        "    input_ids = []\n",
        "    attention_masks = []\n",
        "\n",
        "    # For every sentence...\n",
        "    for sent in data:\n",
        "        # `encode_plus` will:\n",
        "        #    (1) Tokenize the sentence\n",
        "        #    (2) Add the `[CLS]` and `[SEP]` token to the start and end\n",
        "        #    (3) Truncate/Pad sentence to max length\n",
        "        #    (4) Map tokens to their IDs\n",
        "        #    (5) Create attention mask\n",
        "        #    (6) Return a dictionary of outputs\n",
        "        encoded_sent = tokenizer.encode_plus(\n",
        "            text=sent,  # Preprocess sentence\n",
        "            add_special_tokens=True,        # Add `[CLS]` and `[SEP]`\n",
        "            max_length=160,                  # Max length to truncate/pad\n",
        "            pad_to_max_length=True,         # Pad sentence to max length\n",
        "            return_attention_mask=True,      # Return attention mask\n",
        "            truncation=True\n",
        "            )\n",
        "  \n",
        "        # Add the outputs to the lists\n",
        "        input_ids.append(encoded_sent.get('input_ids'))\n",
        "        attention_masks.append(encoded_sent.get('attention_mask'))\n",
        "\n",
        "    # Convert lists to tensors\n",
        "    input_ids = torch.tensor(input_ids)\n",
        "    attention_masks = torch.tensor(attention_masks)\n",
        "\n",
        "    return input_ids, attention_masks"
      ],
      "execution_count": null,
      "outputs": []
    },
    {
      "cell_type": "code",
      "metadata": {
        "id": "SyOufxqRlCve"
      },
      "source": [
        "from sklearn.model_selection import train_test_split\n",
        "\n",
        "# Create train & val data (80%)\n",
        "X = df.text.values[:int(len(df.text)*0.8)]\n",
        "y = df.rating.values [:int(len(df.text)*0.8)]\n",
        "\n",
        "# Split train & val data\n",
        "X_train, X_val0, y_train, y_val0 =\\\n",
        "    train_test_split(X, y, test_size=0.2, random_state=100)\n",
        "\n",
        "X_val, X_test, y_val, y_test = train_test_split(X_val0, y_val0, test_size=0.5, random_state=100)"
      ],
      "execution_count": null,
      "outputs": []
    },
    {
      "cell_type": "code",
      "metadata": {
        "colab": {
          "base_uri": "https://localhost:8080/"
        },
        "id": "65dmX_oS1BkV",
        "outputId": "d79ac590-992d-49de-a8e4-a46ce2e15cc7"
      },
      "source": [
        "print(len(X_train))\n",
        "print(len(y_train))\n",
        "print(X_train)"
      ],
      "execution_count": null,
      "outputs": [
        {
          "output_type": "stream",
          "text": [
            "22160\n",
            "22160\n",
            "['easy use kids daughter happy play favorite games'\n",
            " 'purchased tablet year old twin grandchildren also purchased protective cover absolutely love'\n",
            " 'learn talk properly things wemo better reviewed' ...\n",
            " 'conclude enough look read specs'\n",
            " 'amazon echo began basically speaker music waited started getting features skills bought glad actually bought echo dots first mainly home automation skills decided get big echo leave kitchen use skills listen music works great speaker decent quality'\n",
            " 'week purchase item went sale think best buy refund difference without drive minutes way return repurchase store advised call like credit card information']\n"
          ],
          "name": "stdout"
        }
      ]
    },
    {
      "cell_type": "code",
      "metadata": {
        "colab": {
          "base_uri": "https://localhost:8080/"
        },
        "id": "OycaKJv5lPsX",
        "outputId": "63130b9f-cd04-4665-bf15-f655a7b3f21f"
      },
      "source": [
        "# Tokenize data\n",
        "print('Tokenizing data...')\n",
        "train_inputs, train_masks = preprocessing_for_bert(X_train)\n",
        "val_inputs, val_masks = preprocessing_for_bert(X_val)\n",
        "test_inputs, test_masks = preprocessing_for_bert(X_test)"
      ],
      "execution_count": null,
      "outputs": [
        {
          "output_type": "stream",
          "text": [
            "Tokenizing data...\n"
          ],
          "name": "stdout"
        },
        {
          "output_type": "stream",
          "text": [
            "/usr/local/lib/python3.7/dist-packages/transformers/tokenization_utils_base.py:2110: FutureWarning: The `pad_to_max_length` argument is deprecated and will be removed in a future version, use `padding=True` or `padding='longest'` to pad to the longest sequence in the batch, or use `padding='max_length'` to pad to a max length. In this case, you can give a specific length with `max_length` (e.g. `max_length=45`) or leave max_length to None to pad to the maximal input size of the model (e.g. 512 for Bert).\n",
            "  FutureWarning,\n"
          ],
          "name": "stderr"
        }
      ]
    },
    {
      "cell_type": "code",
      "metadata": {
        "colab": {
          "base_uri": "https://localhost:8080/"
        },
        "id": "3X98xS-BUuhD",
        "outputId": "054ca343-5861-47f2-a19e-c4ef4920cc50"
      },
      "source": [
        "print(train_inputs)\n",
        "print(train_masks)"
      ],
      "execution_count": null,
      "outputs": [
        {
          "output_type": "stream",
          "text": [
            "tensor([[  101,  3733,  2224,  ...,     0,     0,     0],\n",
            "        [  101,  4156, 13855,  ...,     0,     0,     0],\n",
            "        [  101,  4553,  2831,  ...,     0,     0,     0],\n",
            "        ...,\n",
            "        [  101, 16519,  2438,  ...,     0,     0,     0],\n",
            "        [  101,  9733,  9052,  ...,     0,     0,     0],\n",
            "        [  101,  2733,  5309,  ...,     0,     0,     0]])\n",
            "tensor([[1, 1, 1,  ..., 0, 0, 0],\n",
            "        [1, 1, 1,  ..., 0, 0, 0],\n",
            "        [1, 1, 1,  ..., 0, 0, 0],\n",
            "        ...,\n",
            "        [1, 1, 1,  ..., 0, 0, 0],\n",
            "        [1, 1, 1,  ..., 0, 0, 0],\n",
            "        [1, 1, 1,  ..., 0, 0, 0]])\n"
          ],
          "name": "stdout"
        }
      ]
    },
    {
      "cell_type": "code",
      "metadata": {
        "id": "AqZeeS0WlRov"
      },
      "source": [
        "from torch.utils.data import TensorDataset, DataLoader, RandomSampler, SequentialSampler\n",
        "\n",
        "# Convert other data types to torch.Tensor\n",
        "train_labels = torch.Tensor(y_train)\n",
        "val_labels = torch.Tensor(y_val)\n",
        "test_labels = torch.Tensor(y_test)\n",
        "\n",
        "train_labels = train_labels.type(torch.LongTensor)\n",
        "val_labels = val_labels.type(torch.LongTensor)\n",
        "test_labels = test_labels.type(torch.LongTensor)\n",
        "# Chosed batch size is 16.\n",
        "\n",
        "batch_size = 16\n",
        "\n",
        "# Create the DataLoader for our training set\n",
        "train_data = TensorDataset(train_inputs, train_masks, train_labels)\n",
        "train_sampler = RandomSampler(train_data)\n",
        "train_dataloader = DataLoader(train_data, sampler=train_sampler, batch_size=batch_size)\n",
        "\n",
        "# Create the DataLoader for our validation set\n",
        "val_data = TensorDataset(val_inputs, val_masks, val_labels)\n",
        "val_sampler = SequentialSampler(val_data)\n",
        "val_dataloader = DataLoader(val_data, sampler=val_sampler, batch_size=batch_size)\n",
        "\n",
        "# Create the DataLoader for our test set\n",
        "test_data = TensorDataset(test_inputs, test_masks, test_labels)\n",
        "test_sampler = SequentialSampler(test_data)\n",
        "test_dataloader = DataLoader(test_data, sampler=test_sampler, batch_size=batch_size)"
      ],
      "execution_count": null,
      "outputs": []
    },
    {
      "cell_type": "code",
      "metadata": {
        "colab": {
          "base_uri": "https://localhost:8080/"
        },
        "id": "Mp6SCnuklvt_",
        "outputId": "ddc8481f-0859-415c-b1c9-430ac46664cc"
      },
      "source": [
        "%%time\n",
        "import torch\n",
        "import torch.nn as nn\n",
        "from transformers import BertModel\n",
        "\n",
        "# Create the BertClassfier class\n",
        "class BertClassifier(nn.Module):\n",
        "    \"\"\"Bert Model for Classification Tasks.\n",
        "    \"\"\"\n",
        "    def __init__(self, freeze_bert=False):\n",
        "        \"\"\"\n",
        "        @param    bert: a BertModel object\n",
        "        @param    classifier: a torch.nn.Module classifier\n",
        "        @param    freeze_bert (bool): Set `False` to fine-tune the BERT model\n",
        "        \"\"\"\n",
        "        super(BertClassifier, self).__init__()\n",
        "        # Specify hidden size of BERT, hidden size of our classifier, and number of labels \n",
        "        # Nr or labels is 6, because 0 (not used), 1,2,3,4,5 (ratings).\n",
        "        D_in, H, D_out = 768, 50, 6\n",
        "\n",
        "        # Instantiate BERT model\n",
        "        self.bert = BertModel.from_pretrained('bert-base-uncased')\n",
        "\n",
        "        # Instantiate an one-layer feed-forward classifier\n",
        "        self.classifier = nn.Sequential(\n",
        "            nn.Linear(D_in, H),\n",
        "            nn.ReLU(),\n",
        "            nn.Dropout(0.3),\n",
        "            nn.Linear(H, D_out)\n",
        "        )\n",
        "\n",
        "        # Freeze the BERT model\n",
        "        if freeze_bert:\n",
        "            for param in self.bert.parameters():\n",
        "                param.requires_grad = False\n",
        "        \n",
        "    def forward(self, input_ids, attention_mask):\n",
        "        \"\"\"\n",
        "        Feed input to BERT and the classifier to compute logits.\n",
        "        @param    input_ids (torch.Tensor): an input tensor with shape (batch_size,\n",
        "                      max_length)\n",
        "        @param    attention_mask (torch.Tensor): a tensor that hold attention mask\n",
        "                      information with shape (batch_size, max_length)\n",
        "        @return   logits (torch.Tensor): an output tensor with shape (batch_size,\n",
        "                      num_labels)\n",
        "        \"\"\"\n",
        "        # Feed input to BERT\n",
        "        outputs = self.bert(input_ids=input_ids,\n",
        "                            attention_mask=attention_mask)\n",
        "        \n",
        "        # Extract the last hidden state of the token `[CLS]` for classification task\n",
        "        last_hidden_state_cls = outputs[0][:, 0, :]\n",
        "\n",
        "        # Feed input to classifier to compute logits\n",
        "        logits = self.classifier(last_hidden_state_cls)\n",
        "\n",
        "        return logits"
      ],
      "execution_count": null,
      "outputs": [
        {
          "output_type": "stream",
          "text": [
            "CPU times: user 68 µs, sys: 0 ns, total: 68 µs\n",
            "Wall time: 75.6 µs\n"
          ],
          "name": "stdout"
        }
      ]
    },
    {
      "cell_type": "code",
      "metadata": {
        "id": "Z4dteaUllxfX"
      },
      "source": [
        "from transformers import AdamW, get_linear_schedule_with_warmup\n",
        "from transformers import BertForSequenceClassification, AdamW, BertConfig\n",
        "def initialize_model(epochs=4):\n",
        "    \"\"\"Initialize the Bert Classifier, the optimizer and the learning rate scheduler.\n",
        "    \"\"\"\n",
        "    # Instantiate Bert Classifier\n",
        "    model = BertClassifier(freeze_bert=False)\n",
        "   \n",
        "    # Tell PyTorch to run the model on GPU\n",
        "    model.to(device)\n",
        "    \n",
        "   # model = BertForSequenceClassification.from_pretrained(\n",
        "   # \"bert-base-uncased\", # Use the 12-layer BERT model, with an uncased vocab.\n",
        "    #num_labels = 6, # Five ratings  \n",
        "    #output_attentions = False, # Whether the model returns attentions weights.\n",
        "    #output_hidden_states = False, # Whether the model returns all hidden-states.)\n",
        "\n",
        "    # Tell pytorch to run this model on the GPU.\n",
        "    #model.to(device)\n",
        "    # Create the optimizer\n",
        "    optimizer = AdamW(model.parameters(),\n",
        "                      lr=5e-5,    # Default learning rate\n",
        "                      eps=1e-8    # Default epsilon value\n",
        "                      )\n",
        "\n",
        "    # Total number of training steps\n",
        "    total_steps = len(train_dataloader) * epochs\n",
        "\n",
        "    # Set up the learning rate scheduler\n",
        "    scheduler = get_linear_schedule_with_warmup(optimizer,\n",
        "                                                num_warmup_steps=0, # Default value\n",
        "                                                num_training_steps=total_steps)\n",
        "    return model, optimizer, scheduler"
      ],
      "execution_count": null,
      "outputs": []
    },
    {
      "cell_type": "code",
      "metadata": {
        "id": "xHOiOlcSl1VX"
      },
      "source": [
        "import random\n",
        "import time\n",
        "\n",
        "# Specify loss function\n",
        "loss_fn = nn.CrossEntropyLoss()\n",
        "\n",
        "def set_seed(seed_value=42):\n",
        "    \"\"\"Set seed for reproducibility.\n",
        "    \"\"\"\n",
        "    random.seed(seed_value)\n",
        "    np.random.seed(seed_value)\n",
        "    torch.manual_seed(seed_value)\n",
        "    torch.cuda.manual_seed_all(seed_value)\n",
        "\n",
        "def train(model, train_dataloader, val_dataloader=None, epochs=4, evaluation=False):\n",
        "    \"\"\"Train the BertClassifier model.\n",
        "    \"\"\"\n",
        "    train_losses = []\n",
        "    train_accs = []\n",
        "    val_losses = []\n",
        "    val_accs = []\n",
        "    # Start training loop\n",
        "    print(\"Start training...\\n\")\n",
        "    for epoch_i in range(epochs):\n",
        "        # =======================================\n",
        "        #               Training\n",
        "        # =======================================\n",
        "        # Print the header of the result table\n",
        "        print(f\"{'Epoch':^7} | {'Batch':^7} | {'Train Loss':^12} | {'Val Loss':^10} | {'Val Acc':^9} | {'Elapsed':^9}\")\n",
        "        print(\"-\"*70)\n",
        "\n",
        "        # Measure the elapsed time of each epoch\n",
        "        t0_epoch, t0_batch = time.time(), time.time()\n",
        "\n",
        "        # Reset tracking variables at the beginning of each epoch\n",
        "        total_loss, batch_loss, batch_counts = 0, 0, 0\n",
        "\n",
        "        # Put the model into the training mode\n",
        "        model.train()\n",
        "\n",
        "        # For each batch of training data...\n",
        "        for step, batch in enumerate(train_dataloader):\n",
        "            batch_counts +=1\n",
        "            # Load batch to GPU\n",
        "            b_input_ids, b_attn_mask, b_labels = tuple(t.to(device) for t in batch)\n",
        "\n",
        "            # Zero out any previously calculated gradients\n",
        "            model.zero_grad()\n",
        "            \n",
        "            \n",
        "            # Perform a forward pass. This will return logits.\n",
        "            logits = model(b_input_ids, b_attn_mask)\n",
        "\n",
        "            # Compute loss and accumulate the loss values\n",
        "            loss = loss_fn(logits, b_labels)\n",
        "            batch_loss += loss.item()\n",
        "            total_loss += loss.item()\n",
        "\n",
        "            # Perform a backward pass to calculate gradients\n",
        "            loss.backward()\n",
        "\n",
        "            # Clip the norm of the gradients to 1.0 to prevent \"exploding gradients\"\n",
        "            torch.nn.utils.clip_grad_norm_(model.parameters(), 1.0)\n",
        "\n",
        "            # Update parameters and the learning rate\n",
        "            optimizer.step()\n",
        "            scheduler.step()\n",
        "\n",
        "            # Print the loss values and time elapsed for every 20 batches\n",
        "            if (step % 20 == 0 and step != 0) or (step == len(train_dataloader) - 1):\n",
        "                # Calculate time elapsed for 20 batches\n",
        "                time_elapsed = time.time() - t0_batch\n",
        "\n",
        "                # Print training results\n",
        "                print(f\"{epoch_i + 1:^7} | {step:^7} | {batch_loss / batch_counts:^12.6f} | {'-':^10} | {'-':^9} | {time_elapsed:^9.2f}\")\n",
        "\n",
        "                # Reset batch tracking variables\n",
        "                batch_loss, batch_counts = 0, 0\n",
        "                t0_batch = time.time()\n",
        "\n",
        "        # Calculate the average loss over the entire training data\n",
        "        avg_train_loss = total_loss / len(train_dataloader)\n",
        "        train_losses.append(avg_train_loss)\n",
        "        print(\"-\"*70)\n",
        "        # =======================================\n",
        "        #               Evaluation\n",
        "        # =======================================\n",
        "        if evaluation == True:\n",
        "            # After the completion of each training epoch, measure the model's performance\n",
        "            # on our validation set.\n",
        "            val_loss, val_accuracy = evaluate(model, val_dataloader)\n",
        "            val_losses.append(val_loss)\n",
        "            val_accs.append(val_accuracy)\n",
        "            # Print performance over the entire training data\n",
        "            time_elapsed = time.time() - t0_epoch\n",
        "            \n",
        "            print(f\"{epoch_i + 1:^7} | {'-':^7} | {avg_train_loss:^12.6f} | {val_loss:^10.6f} | {val_accuracy:^9.2f} | {time_elapsed:^9.2f}\")\n",
        "            print(\"-\"*70)\n",
        "        print(\"\\n\")\n",
        "    \n",
        "    print(\"Training complete!\")\n",
        "\n",
        "    return train_losses, val_losses, val_accs\n",
        "\n",
        "\n",
        "def evaluate(model, val_dataloader):\n",
        "    \"\"\"After the completion of each training epoch, measure the model's performance\n",
        "    on our validation set.\n",
        "    \"\"\"\n",
        "    # Put the model into the evaluation mode. The dropout layers are disabled during\n",
        "    # the test time.\n",
        "    model.eval()\n",
        "\n",
        "    # Tracking variables\n",
        "    val_accuracy = []\n",
        "    val_loss = []\n",
        "\n",
        "    # For each batch in our validation set...\n",
        "    for batch in val_dataloader:\n",
        "        # Load batch to GPU\n",
        "        b_input_ids, b_attn_mask, b_labels = tuple(t.to(device) for t in batch)\n",
        "\n",
        "        # Compute logits\n",
        "        with torch.no_grad():\n",
        "            logits = model(b_input_ids, b_attn_mask)\n",
        "\n",
        "        # Compute loss\n",
        "        loss = loss_fn(logits, b_labels)\n",
        "        val_loss.append(loss.item())\n",
        "\n",
        "        # Get the predictions\n",
        "        preds = torch.argmax(logits, dim=1).flatten()\n",
        "\n",
        "        # Calculate the accuracy rate\n",
        "        accuracy = (preds == b_labels).cpu().numpy().mean() * 100\n",
        "        val_accuracy.append(accuracy)\n",
        "\n",
        "    # Compute the average accuracy and loss over the validation set.\n",
        "    val_loss = np.mean(val_loss)\n",
        "    val_accuracy = np.mean(val_accuracy)\n",
        "\n",
        "    return val_loss, val_accuracy"
      ],
      "execution_count": null,
      "outputs": []
    },
    {
      "cell_type": "code",
      "metadata": {
        "id": "Dvtp3ffNl3vI",
        "colab": {
          "base_uri": "https://localhost:8080/"
        },
        "outputId": "7b672d8f-cfea-41d4-e7a1-c942e31733ff"
      },
      "source": [
        "torch.cuda.empty_cache()\n",
        "set_seed(42)    # Set seed for reproducibility\n",
        "bert_classifier, optimizer, scheduler = initialize_model(epochs=3)"
      ],
      "execution_count": null,
      "outputs": [
        {
          "output_type": "stream",
          "text": [
            "Some weights of the model checkpoint at bert-base-uncased were not used when initializing BertModel: ['cls.predictions.transform.LayerNorm.bias', 'cls.predictions.bias', 'cls.predictions.transform.LayerNorm.weight', 'cls.predictions.transform.dense.weight', 'cls.seq_relationship.bias', 'cls.predictions.decoder.weight', 'cls.predictions.transform.dense.bias', 'cls.seq_relationship.weight']\n",
            "- This IS expected if you are initializing BertModel from the checkpoint of a model trained on another task or with another architecture (e.g. initializing a BertForSequenceClassification model from a BertForPreTraining model).\n",
            "- This IS NOT expected if you are initializing BertModel from the checkpoint of a model that you expect to be exactly identical (initializing a BertForSequenceClassification model from a BertForSequenceClassification model).\n"
          ],
          "name": "stderr"
        }
      ]
    },
    {
      "cell_type": "code",
      "metadata": {
        "colab": {
          "base_uri": "https://localhost:8080/"
        },
        "id": "KuRPW788quEk",
        "outputId": "03f94cac-b0cf-492a-d655-619ca23e1af6"
      },
      "source": [
        "losses, val_losses, val_accs = train(bert_classifier, train_dataloader, val_dataloader, epochs=3, evaluation=True)"
      ],
      "execution_count": null,
      "outputs": [
        {
          "output_type": "stream",
          "text": [
            "Start training...\n",
            "\n",
            " Epoch  |  Batch  |  Train Loss  |  Val Loss  |  Val Acc  |  Elapsed \n",
            "----------------------------------------------------------------------\n",
            "   1    |   20    |   1.286518   |     -      |     -     |   17.30  \n",
            "   1    |   40    |   1.043634   |     -      |     -     |   16.41  \n",
            "   1    |   60    |   1.059592   |     -      |     -     |   16.48  \n",
            "   1    |   80    |   0.893126   |     -      |     -     |   16.50  \n",
            "   1    |   100   |   1.015187   |     -      |     -     |   16.53  \n",
            "   1    |   120   |   0.927563   |     -      |     -     |   16.53  \n",
            "   1    |   140   |   0.908194   |     -      |     -     |   16.56  \n",
            "   1    |   160   |   0.959522   |     -      |     -     |   16.56  \n",
            "   1    |   180   |   0.899646   |     -      |     -     |   16.57  \n",
            "   1    |   200   |   0.949802   |     -      |     -     |   16.54  \n",
            "   1    |   220   |   0.905522   |     -      |     -     |   16.56  \n",
            "   1    |   240   |   0.973388   |     -      |     -     |   16.56  \n",
            "   1    |   260   |   0.848848   |     -      |     -     |   16.56  \n",
            "   1    |   280   |   0.838250   |     -      |     -     |   16.55  \n",
            "   1    |   300   |   0.832652   |     -      |     -     |   16.57  \n",
            "   1    |   320   |   0.946331   |     -      |     -     |   16.56  \n",
            "   1    |   340   |   1.012399   |     -      |     -     |   16.55  \n",
            "   1    |   360   |   0.927997   |     -      |     -     |   16.54  \n",
            "   1    |   380   |   0.876502   |     -      |     -     |   16.54  \n",
            "   1    |   400   |   0.737318   |     -      |     -     |   16.56  \n",
            "   1    |   420   |   0.870874   |     -      |     -     |   16.56  \n",
            "   1    |   440   |   0.876813   |     -      |     -     |   16.57  \n",
            "   1    |   460   |   0.777614   |     -      |     -     |   16.56  \n",
            "   1    |   480   |   0.747776   |     -      |     -     |   16.57  \n",
            "   1    |   500   |   0.811914   |     -      |     -     |   16.56  \n",
            "   1    |   520   |   0.808073   |     -      |     -     |   16.55  \n",
            "   1    |   540   |   0.858258   |     -      |     -     |   16.55  \n",
            "   1    |   560   |   0.900533   |     -      |     -     |   16.56  \n",
            "   1    |   580   |   0.821887   |     -      |     -     |   16.54  \n",
            "   1    |   600   |   0.791855   |     -      |     -     |   16.56  \n",
            "   1    |   620   |   0.814702   |     -      |     -     |   16.53  \n",
            "   1    |   640   |   0.873396   |     -      |     -     |   16.55  \n",
            "   1    |   660   |   0.812591   |     -      |     -     |   16.56  \n",
            "   1    |   680   |   0.821088   |     -      |     -     |   16.56  \n",
            "   1    |   700   |   0.811786   |     -      |     -     |   16.53  \n",
            "   1    |   720   |   0.845827   |     -      |     -     |   16.55  \n",
            "   1    |   740   |   0.855734   |     -      |     -     |   16.54  \n",
            "   1    |   760   |   0.927052   |     -      |     -     |   16.53  \n",
            "   1    |   780   |   0.844429   |     -      |     -     |   16.57  \n",
            "   1    |   800   |   0.822032   |     -      |     -     |   16.55  \n",
            "   1    |   820   |   0.921270   |     -      |     -     |   16.56  \n",
            "   1    |   840   |   0.781946   |     -      |     -     |   16.56  \n",
            "   1    |   860   |   0.805244   |     -      |     -     |   16.56  \n",
            "   1    |   880   |   0.800527   |     -      |     -     |   16.55  \n",
            "   1    |   900   |   0.812943   |     -      |     -     |   16.54  \n",
            "   1    |   920   |   0.770580   |     -      |     -     |   16.56  \n",
            "   1    |   940   |   0.845727   |     -      |     -     |   16.58  \n",
            "   1    |   960   |   0.807553   |     -      |     -     |   16.55  \n",
            "   1    |   980   |   0.760753   |     -      |     -     |   16.57  \n",
            "   1    |  1000   |   0.873302   |     -      |     -     |   16.55  \n",
            "   1    |  1020   |   0.809922   |     -      |     -     |   16.56  \n",
            "   1    |  1040   |   0.752869   |     -      |     -     |   16.55  \n",
            "   1    |  1060   |   0.750886   |     -      |     -     |   16.55  \n",
            "   1    |  1080   |   0.837502   |     -      |     -     |   16.56  \n",
            "   1    |  1100   |   0.786424   |     -      |     -     |   16.55  \n",
            "   1    |  1120   |   0.783631   |     -      |     -     |   16.56  \n",
            "   1    |  1140   |   0.887783   |     -      |     -     |   16.54  \n",
            "   1    |  1160   |   0.776319   |     -      |     -     |   16.56  \n",
            "   1    |  1180   |   0.769170   |     -      |     -     |   16.58  \n",
            "   1    |  1200   |   0.793499   |     -      |     -     |   16.56  \n",
            "   1    |  1220   |   0.743774   |     -      |     -     |   16.53  \n",
            "   1    |  1240   |   0.885059   |     -      |     -     |   16.57  \n",
            "   1    |  1260   |   0.825538   |     -      |     -     |   16.57  \n",
            "   1    |  1280   |   0.721641   |     -      |     -     |   16.55  \n",
            "   1    |  1300   |   0.816554   |     -      |     -     |   16.55  \n",
            "   1    |  1320   |   0.803729   |     -      |     -     |   16.55  \n",
            "   1    |  1340   |   0.833926   |     -      |     -     |   16.55  \n",
            "   1    |  1360   |   0.769792   |     -      |     -     |   16.56  \n",
            "   1    |  1380   |   0.761595   |     -      |     -     |   16.58  \n",
            "   1    |  1384   |   0.834550   |     -      |     -     |   3.30   \n",
            "----------------------------------------------------------------------\n",
            "   1    |    -    |   0.852807   |  0.731010  |   69.32   |  1197.89 \n",
            "----------------------------------------------------------------------\n",
            "\n",
            "\n",
            " Epoch  |  Batch  |  Train Loss  |  Val Loss  |  Val Acc  |  Elapsed \n",
            "----------------------------------------------------------------------\n",
            "   2    |   20    |   0.668105   |     -      |     -     |   17.42  \n",
            "   2    |   40    |   0.678286   |     -      |     -     |   16.60  \n",
            "   2    |   60    |   0.788476   |     -      |     -     |   16.60  \n",
            "   2    |   80    |   0.710009   |     -      |     -     |   16.58  \n",
            "   2    |   100   |   0.677481   |     -      |     -     |   16.60  \n",
            "   2    |   120   |   0.768790   |     -      |     -     |   16.58  \n",
            "   2    |   140   |   0.721833   |     -      |     -     |   16.60  \n",
            "   2    |   160   |   0.733235   |     -      |     -     |   16.62  \n",
            "   2    |   180   |   0.790707   |     -      |     -     |   16.60  \n",
            "   2    |   200   |   0.717955   |     -      |     -     |   16.62  \n",
            "   2    |   220   |   0.752035   |     -      |     -     |   16.59  \n",
            "   2    |   240   |   0.741384   |     -      |     -     |   16.62  \n",
            "   2    |   260   |   0.745896   |     -      |     -     |   16.60  \n",
            "   2    |   280   |   0.700295   |     -      |     -     |   16.61  \n",
            "   2    |   300   |   0.791735   |     -      |     -     |   16.62  \n",
            "   2    |   320   |   0.716791   |     -      |     -     |   16.61  \n",
            "   2    |   340   |   0.692877   |     -      |     -     |   16.62  \n",
            "   2    |   360   |   0.723354   |     -      |     -     |   16.61  \n",
            "   2    |   380   |   0.770320   |     -      |     -     |   16.61  \n",
            "   2    |   400   |   0.747643   |     -      |     -     |   16.60  \n",
            "   2    |   420   |   0.695965   |     -      |     -     |   16.64  \n",
            "   2    |   440   |   0.688605   |     -      |     -     |   16.61  \n",
            "   2    |   460   |   0.645018   |     -      |     -     |   16.60  \n",
            "   2    |   480   |   0.793189   |     -      |     -     |   16.61  \n",
            "   2    |   500   |   0.744197   |     -      |     -     |   16.61  \n",
            "   2    |   520   |   0.693209   |     -      |     -     |   16.61  \n",
            "   2    |   540   |   0.778917   |     -      |     -     |   16.61  \n",
            "   2    |   560   |   0.782319   |     -      |     -     |   16.64  \n",
            "   2    |   580   |   0.790381   |     -      |     -     |   16.65  \n",
            "   2    |   600   |   0.783413   |     -      |     -     |   16.66  \n",
            "   2    |   620   |   0.669910   |     -      |     -     |   16.65  \n",
            "   2    |   640   |   0.805881   |     -      |     -     |   16.66  \n",
            "   2    |   660   |   0.784267   |     -      |     -     |   16.66  \n",
            "   2    |   680   |   0.695034   |     -      |     -     |   16.66  \n",
            "   2    |   700   |   0.674118   |     -      |     -     |   16.63  \n",
            "   2    |   720   |   0.655868   |     -      |     -     |   16.64  \n",
            "   2    |   740   |   0.728367   |     -      |     -     |   16.65  \n",
            "   2    |   760   |   0.565483   |     -      |     -     |   16.63  \n",
            "   2    |   780   |   0.745286   |     -      |     -     |   16.67  \n",
            "   2    |   800   |   0.709123   |     -      |     -     |   16.65  \n",
            "   2    |   820   |   0.813966   |     -      |     -     |   16.64  \n",
            "   2    |   840   |   0.758874   |     -      |     -     |   16.63  \n",
            "   2    |   860   |   0.713977   |     -      |     -     |   16.64  \n",
            "   2    |   880   |   0.744224   |     -      |     -     |   16.66  \n",
            "   2    |   900   |   0.735411   |     -      |     -     |   16.63  \n",
            "   2    |   920   |   0.689644   |     -      |     -     |   16.62  \n",
            "   2    |   940   |   0.716057   |     -      |     -     |   16.65  \n",
            "   2    |   960   |   0.716335   |     -      |     -     |   16.61  \n",
            "   2    |   980   |   0.796097   |     -      |     -     |   16.61  \n",
            "   2    |  1000   |   0.703317   |     -      |     -     |   16.63  \n",
            "   2    |  1020   |   0.728469   |     -      |     -     |   16.64  \n",
            "   2    |  1040   |   0.722003   |     -      |     -     |   16.63  \n",
            "   2    |  1060   |   0.711784   |     -      |     -     |   16.61  \n",
            "   2    |  1080   |   0.676186   |     -      |     -     |   16.61  \n",
            "   2    |  1100   |   0.735270   |     -      |     -     |   16.61  \n",
            "   2    |  1120   |   0.791938   |     -      |     -     |   16.60  \n",
            "   2    |  1140   |   0.667106   |     -      |     -     |   16.61  \n",
            "   2    |  1160   |   0.716926   |     -      |     -     |   16.61  \n",
            "   2    |  1180   |   0.733108   |     -      |     -     |   16.64  \n",
            "   2    |  1200   |   0.691634   |     -      |     -     |   16.61  \n",
            "   2    |  1220   |   0.709222   |     -      |     -     |   16.63  \n",
            "   2    |  1240   |   0.729004   |     -      |     -     |   16.61  \n",
            "   2    |  1260   |   0.628918   |     -      |     -     |   16.60  \n",
            "   2    |  1280   |   0.696461   |     -      |     -     |   16.58  \n",
            "   2    |  1300   |   0.733947   |     -      |     -     |   16.55  \n",
            "   2    |  1320   |   0.699338   |     -      |     -     |   16.55  \n",
            "   2    |  1340   |   0.688852   |     -      |     -     |   16.59  \n",
            "   2    |  1360   |   0.727522   |     -      |     -     |   16.60  \n",
            "   2    |  1380   |   0.665691   |     -      |     -     |   16.56  \n",
            "   2    |  1384   |   0.790807   |     -      |     -     |   3.32   \n",
            "----------------------------------------------------------------------\n",
            "   2    |    -    |   0.723446   |  0.722722  |   70.69   |  1202.48 \n",
            "----------------------------------------------------------------------\n",
            "\n",
            "\n",
            " Epoch  |  Batch  |  Train Loss  |  Val Loss  |  Val Acc  |  Elapsed \n",
            "----------------------------------------------------------------------\n",
            "   3    |   20    |   0.584356   |     -      |     -     |   17.36  \n",
            "   3    |   40    |   0.615375   |     -      |     -     |   16.53  \n",
            "   3    |   60    |   0.641262   |     -      |     -     |   16.52  \n",
            "   3    |   80    |   0.638197   |     -      |     -     |   16.55  \n",
            "   3    |   100   |   0.662784   |     -      |     -     |   16.58  \n",
            "   3    |   120   |   0.624921   |     -      |     -     |   16.54  \n",
            "   3    |   140   |   0.664862   |     -      |     -     |   16.52  \n",
            "   3    |   160   |   0.649456   |     -      |     -     |   16.54  \n",
            "   3    |   180   |   0.650376   |     -      |     -     |   16.59  \n",
            "   3    |   200   |   0.555202   |     -      |     -     |   16.56  \n",
            "   3    |   220   |   0.590239   |     -      |     -     |   16.55  \n",
            "   3    |   240   |   0.626803   |     -      |     -     |   16.59  \n",
            "   3    |   260   |   0.627715   |     -      |     -     |   16.56  \n",
            "   3    |   280   |   0.507403   |     -      |     -     |   16.56  \n",
            "   3    |   300   |   0.568009   |     -      |     -     |   16.59  \n",
            "   3    |   320   |   0.637670   |     -      |     -     |   16.57  \n",
            "   3    |   340   |   0.542766   |     -      |     -     |   16.58  \n",
            "   3    |   360   |   0.590615   |     -      |     -     |   16.54  \n",
            "   3    |   380   |   0.657698   |     -      |     -     |   16.54  \n",
            "   3    |   400   |   0.588555   |     -      |     -     |   16.54  \n",
            "   3    |   420   |   0.574196   |     -      |     -     |   16.55  \n",
            "   3    |   440   |   0.615754   |     -      |     -     |   16.55  \n",
            "   3    |   460   |   0.659295   |     -      |     -     |   16.54  \n",
            "   3    |   480   |   0.606199   |     -      |     -     |   16.55  \n",
            "   3    |   500   |   0.623444   |     -      |     -     |   16.54  \n",
            "   3    |   520   |   0.570070   |     -      |     -     |   16.57  \n",
            "   3    |   540   |   0.654656   |     -      |     -     |   16.55  \n",
            "   3    |   560   |   0.610989   |     -      |     -     |   16.53  \n",
            "   3    |   580   |   0.624432   |     -      |     -     |   16.53  \n",
            "   3    |   600   |   0.625696   |     -      |     -     |   16.54  \n",
            "   3    |   620   |   0.553249   |     -      |     -     |   16.56  \n",
            "   3    |   640   |   0.697560   |     -      |     -     |   16.56  \n",
            "   3    |   660   |   0.632507   |     -      |     -     |   16.54  \n",
            "   3    |   680   |   0.622858   |     -      |     -     |   16.54  \n",
            "   3    |   700   |   0.503167   |     -      |     -     |   16.60  \n",
            "   3    |   720   |   0.626032   |     -      |     -     |   16.61  \n",
            "   3    |   740   |   0.621891   |     -      |     -     |   16.60  \n",
            "   3    |   760   |   0.585077   |     -      |     -     |   16.60  \n",
            "   3    |   780   |   0.653576   |     -      |     -     |   16.61  \n",
            "   3    |   800   |   0.648985   |     -      |     -     |   16.62  \n",
            "   3    |   820   |   0.496970   |     -      |     -     |   16.59  \n",
            "   3    |   840   |   0.550476   |     -      |     -     |   16.60  \n",
            "   3    |   860   |   0.604256   |     -      |     -     |   16.59  \n",
            "   3    |   880   |   0.537555   |     -      |     -     |   16.58  \n",
            "   3    |   900   |   0.624712   |     -      |     -     |   16.62  \n",
            "   3    |   920   |   0.638880   |     -      |     -     |   16.63  \n",
            "   3    |   940   |   0.684134   |     -      |     -     |   16.60  \n",
            "   3    |   960   |   0.653575   |     -      |     -     |   16.60  \n",
            "   3    |   980   |   0.696646   |     -      |     -     |   16.59  \n",
            "   3    |  1000   |   0.573126   |     -      |     -     |   16.62  \n",
            "   3    |  1020   |   0.630079   |     -      |     -     |   16.61  \n",
            "   3    |  1040   |   0.616965   |     -      |     -     |   16.60  \n",
            "   3    |  1060   |   0.635810   |     -      |     -     |   16.58  \n",
            "   3    |  1080   |   0.576024   |     -      |     -     |   16.61  \n",
            "   3    |  1100   |   0.574151   |     -      |     -     |   16.60  \n",
            "   3    |  1120   |   0.524297   |     -      |     -     |   16.63  \n",
            "   3    |  1140   |   0.606044   |     -      |     -     |   16.64  \n",
            "   3    |  1160   |   0.581745   |     -      |     -     |   16.64  \n",
            "   3    |  1180   |   0.675525   |     -      |     -     |   16.61  \n",
            "   3    |  1200   |   0.498776   |     -      |     -     |   16.61  \n",
            "   3    |  1220   |   0.691746   |     -      |     -     |   16.62  \n",
            "   3    |  1240   |   0.652809   |     -      |     -     |   16.59  \n",
            "   3    |  1260   |   0.591063   |     -      |     -     |   16.61  \n",
            "   3    |  1280   |   0.592181   |     -      |     -     |   16.61  \n",
            "   3    |  1300   |   0.553012   |     -      |     -     |   16.60  \n",
            "   3    |  1320   |   0.646452   |     -      |     -     |   16.60  \n",
            "   3    |  1340   |   0.500261   |     -      |     -     |   16.59  \n",
            "   3    |  1360   |   0.503703   |     -      |     -     |   16.60  \n",
            "   3    |  1380   |   0.563404   |     -      |     -     |   16.59  \n",
            "   3    |  1384   |   0.581764   |     -      |     -     |   3.31   \n",
            "----------------------------------------------------------------------\n",
            "   3    |    -    |   0.605832   |  0.773072  |   69.83   |  1199.97 \n",
            "----------------------------------------------------------------------\n",
            "\n",
            "\n",
            "Training complete!\n"
          ],
          "name": "stdout"
        }
      ]
    },
    {
      "cell_type": "code",
      "metadata": {
        "colab": {
          "base_uri": "https://localhost:8080/",
          "height": 365
        },
        "id": "jnL8NAbnrwu6",
        "outputId": "1d3c54f6-fd89-47e3-b50a-a7c46e2f72a2"
      },
      "source": [
        "print(losses)\n",
        "print(val_losses)\n",
        "print(val_accs)\n",
        "vals = []\n",
        "\n",
        "for val in val_accs:\n",
        "  vals.append(val/100)\n",
        "plt.plot(losses, label='train losses')\n",
        "plt.plot(val_losses, label='validation losses')\n",
        "#plt.plot(vals, label='validation accuracy')\n",
        "plt.title('Training history')\n",
        "plt.ylabel('Loss')\n",
        "plt.xlabel('Epoch')\n",
        "plt.legend()"
      ],
      "execution_count": null,
      "outputs": [
        {
          "output_type": "stream",
          "text": [
            "[0.8528074987743736, 0.7234456114928215, 0.6058316338363537]\n",
            "[0.7310103430658922, 0.7227223515510559, 0.7730723133032349]\n",
            "[69.32471264367815, 70.6896551724138, 69.82758620689656]\n"
          ],
          "name": "stdout"
        },
        {
          "output_type": "execute_result",
          "data": {
            "text/plain": [
              "<matplotlib.legend.Legend at 0x7f556ebdd290>"
            ]
          },
          "metadata": {
            "tags": []
          },
          "execution_count": 36
        },
        {
          "output_type": "display_data",
          "data": {
            "image/png": "[encoded data removed]",
            "text/plain": [
              "<Figure size 432x288 with 1 Axes>"
            ]
          },
          "metadata": {
            "tags": [],
            "needs_background": "light"
          }
        }
      ]
    },
    {
      "cell_type": "code",
      "metadata": {
        "colab": {
          "base_uri": "https://localhost:8080/",
          "height": 313
        },
        "id": "v2SKgKnwryc6",
        "outputId": "d9078bd0-ed08-496c-e61d-6f66cdcc1d7d"
      },
      "source": [
        "plt.plot(vals, label='validation accuracy')\n",
        "plt.title('Training history validation accuracy')\n",
        "plt.ylabel('Accuracy')\n",
        "plt.xlabel('Epoch')\n",
        "plt.legend()"
      ],
      "execution_count": null,
      "outputs": [
        {
          "output_type": "execute_result",
          "data": {
            "text/plain": [
              "<matplotlib.legend.Legend at 0x7f556ecb44d0>"
            ]
          },
          "metadata": {
            "tags": []
          },
          "execution_count": 37
        },
        {
          "output_type": "display_data",
          "data": {
            "image/png": "[encoded data removed]",
            "text/plain": [
              "<Figure size 432x288 with 1 Axes>"
            ]
          },
          "metadata": {
            "tags": [],
            "needs_background": "light"
          }
        }
      ]
    },
    {
      "cell_type": "code",
      "metadata": {
        "id": "lWxALa4Poskz"
      },
      "source": [
        "import torch.nn.functional as F\n",
        "\n",
        "def bert_predict(model, test_dataloader):\n",
        "    \"\"\"Perform a forward pass on the trained BERT model to predict probabilities\n",
        "    on the test set.\n",
        "    \"\"\"\n",
        "    # Put the model into the evaluation mode. The dropout layers are disabled during\n",
        "    # the test time.\n",
        "    model.eval()\n",
        "\n",
        "    all_logits = []\n",
        "\n",
        "    # For each batch in our test set...\n",
        "    for batch in test_dataloader:\n",
        "        # Load batch to GPU\n",
        "        b_input_ids, b_attn_mask = tuple(t.to(device) for t in batch)[:2]\n",
        "\n",
        "        # Compute logits\n",
        "        with torch.no_grad():\n",
        "            logits = model(b_input_ids, b_attn_mask)\n",
        "        all_logits.append(logits)\n",
        "    \n",
        "    # Concatenate logits from each batch\n",
        "    all_logits = torch.cat(all_logits, dim=0)\n",
        "\n",
        "    # Apply softmax to calculate probabilities\n",
        "    probs = F.softmax(all_logits, dim=1).cpu().numpy()\n",
        "\n",
        "    return probs"
      ],
      "execution_count": null,
      "outputs": []
    },
    {
      "cell_type": "markdown",
      "metadata": {
        "id": "6pdsL7zr9J3Q"
      },
      "source": [
        "Evaluation on test data"
      ]
    },
    {
      "cell_type": "code",
      "metadata": {
        "colab": {
          "base_uri": "https://localhost:8080/"
        },
        "id": "sg6XKtKRr69E",
        "outputId": "e7efc659-5751-4ac8-8b43-9ab3321cd718"
      },
      "source": [
        "# Evaluate the Bert classifier\n",
        "from sklearn.metrics import accuracy_score\n",
        "from sklearn.metrics import confusion_matrix, classification_report\n",
        "probs = bert_predict(bert_classifier, test_dataloader)\n",
        "preds=[]\n",
        "for i in probs:\n",
        "  arg = np.argmax(i)\n",
        "  preds.append(arg)\n",
        "\n",
        "accuracy = accuracy_score(y_test, preds)\n",
        "print(f'Accuracy: {accuracy*100:.2f}%')"
      ],
      "execution_count": null,
      "outputs": [
        {
          "output_type": "stream",
          "text": [
            "Accuracy: 68.84%\n"
          ],
          "name": "stdout"
        }
      ]
    },
    {
      "cell_type": "code",
      "metadata": {
        "colab": {
          "base_uri": "https://localhost:8080/"
        },
        "id": "LkfHReSesBdW",
        "outputId": "68259684-ef8a-4405-eb2d-8448eef9f980"
      },
      "source": [
        "from sklearn.metrics import confusion_matrix, classification_report\n",
        "\n",
        "print(confusion_matrix(y_test, preds))\n",
        "print('\\n')\n",
        "print(classification_report(y_test, preds))"
      ],
      "execution_count": null,
      "outputs": [
        {
          "output_type": "stream",
          "text": [
            "[[  11    0    7    4    3]\n",
            " [   1    0    9   12    4]\n",
            " [   7    0   18   55   27]\n",
            " [   6    1   34  274  459]\n",
            " [   3    0   11  220 1604]]\n",
            "\n",
            "\n",
            "              precision    recall  f1-score   support\n",
            "\n",
            "         1.0       0.39      0.44      0.42        25\n",
            "         2.0       0.00      0.00      0.00        26\n",
            "         3.0       0.23      0.17      0.19       107\n",
            "         4.0       0.48      0.35      0.41       774\n",
            "         5.0       0.76      0.87      0.82      1838\n",
            "\n",
            "    accuracy                           0.69      2770\n",
            "   macro avg       0.37      0.37      0.37      2770\n",
            "weighted avg       0.66      0.69      0.67      2770\n",
            "\n"
          ],
          "name": "stdout"
        }
      ]
    },
    {
      "cell_type": "code",
      "metadata": {
        "colab": {
          "base_uri": "https://localhost:8080/"
        },
        "id": "IUCOiZpLsC3D",
        "outputId": "30efc2af-8a85-4f11-bc3e-22c2fe69a647"
      },
      "source": [
        "idx = 99 #just a sample value\n",
        "\n",
        "review_text = X_test[idx]\n",
        "print(review_text)\n",
        "true_rating = y_test[idx]\n",
        "print(true_rating)\n",
        "\n",
        "pred_df = preds[idx]\n",
        "print(pred_df)"
      ],
      "execution_count": null,
      "outputs": [
        {
          "output_type": "stream",
          "text": [
            "second tablet great starter tablet prime account even better prime video allows download videos later viewing\n",
            "5.0\n",
            "5\n"
          ],
          "name": "stdout"
        }
      ]
    },
    {
      "cell_type": "code",
      "metadata": {
        "colab": {
          "base_uri": "https://localhost:8080/",
          "height": 285
        },
        "id": "RyEpUHeG9MqD",
        "outputId": "dbd844d9-e265-4e17-a1a0-b135c233a849"
      },
      "source": [
        "def show_conf_matrix(confusion_matrix):\n",
        "  hmap =sns.heatmap(confusion_matrix, annot=True, fmt=\"d\", cmap=\"Blues\")\n",
        "  hmap.yaxis.set_ticklabels(hmap.yaxis.get_ticklabels(), rotation = 0, ha='right')\n",
        "  hmap.xaxis.set_ticklabels(hmap.xaxis.get_ticklabels(), rotation = 30, ha ='right')\n",
        "  plt.ylabel('True rating')\n",
        "  plt.xlabel('Predicted rating')\n",
        "\n",
        "ratings = [1,2,3,4,5]\n",
        "\n",
        "cm = confusion_matrix(y_test, preds)\n",
        "df_cm = pd.DataFrame(cm, index = ratings, columns = ratings)\n",
        "show_conf_matrix(df_cm)"
      ],
      "execution_count": null,
      "outputs": [
        {
          "output_type": "display_data",
          "data": {
            "image/png": "[encoded data removed]",
            "text/plain": [
              "<Figure size 432x288 with 2 Axes>"
            ]
          },
          "metadata": {
            "tags": [],
            "needs_background": "light"
          }
        }
      ]
    },
    {
      "cell_type": "code",
      "metadata": {
        "id": "XEvdz6if9fOC"
      },
      "source": [
        ""
      ],
      "execution_count": null,
      "outputs": []
    }
  ]
}